{
 "cells": [
  {
   "cell_type": "markdown",
   "metadata": {},
   "source": [
    "# Guia Spark"
   ]
  },
  {
   "cell_type": "markdown",
   "metadata": {},
   "source": [
    "Spark SQL es una interfaz para el procesamiento de datos estructurados usando el lenguaje SQL. En adición, Spark SQL también puede ser usado para leer datos de Apache Hive. Spark SQL opera sobre DataFrames, los cuales son Datasets (RDD) organizado por columnas identificadas por nombres, los cuales equivalen a tablas en los sistemas de bases de datos relacionales."
   ]
  },
  {
   "cell_type": "markdown",
   "metadata": {},
   "source": [
    "Al finalizar este tutorial, el estudiante estará en capacidad de:\n",
    "\n",
    "-Crear DataFrames a partir de archivos en distintos formatos.\n",
    "\n",
    "-Aplicar operaciones de selección, filtrado y agregación a un DataFrame.\n",
    "\n",
    "-Aplicar consultas en SQL sobre un DataFrame.\n",
    "\n",
    "-Aplicar consultas en SQL directamente sobre archivos.\n",
    "\n",
    "-Escribir los resultados de operaciones al disco."
   ]
  },
  {
   "cell_type": "markdown",
   "metadata": {},
   "source": [
    "# Preparación"
   ]
  },
  {
   "cell_type": "code",
   "execution_count": 1,
   "metadata": {},
   "outputs": [],
   "source": [
    "##\n",
    "#https://jdvelasq.github.io/courses/notebooks/pyspark/2-04-pyspark-SparkSQL.html\n",
    "#https://guru99.es/pyspark-tutorial/\n",
    "## findspark permite usar pyspark (interfaz de Python a Spark),\n",
    "## desde cualquier programa escrito en Python.\n",
    "##\n",
    "import findspark\n",
    "findspark.init()\n",
    "\n",
    "##\n",
    "## A continuación se inicializan las variables obligatorias\n",
    "## requeridas para trabajar con Spark desde Python:\n",
    "##\n",
    "##  SparkContext representa la conexión al cluster de Spark.\n",
    "##  SparkConf representa la configuración particular de una aplicación\n",
    "##     escrita en Spark.\n",
    "##  SparkSession representa la conexión para trabajar con SQL.\n",
    "##\n",
    "from pyspark import SparkConf, SparkContext\n",
    "from pyspark.sql import SparkSession\n",
    "\n",
    "sparkConf = SparkConf().setAppName(\"Mi Api Spark\")\n",
    "sc = SparkContext(conf=sparkConf)\n",
    "spark = SparkSession(sc)"
   ]
  },
  {
   "cell_type": "code",
   "execution_count": 2,
   "metadata": {},
   "outputs": [
    {
     "data": {
      "text/html": [
       "\n",
       "            <div>\n",
       "                <p><b>SparkSession - in-memory</b></p>\n",
       "                \n",
       "        <div>\n",
       "            <p><b>SparkContext</b></p>\n",
       "\n",
       "            <p><a href=\"http://DESKTOP-OA06NEQ:4040\">Spark UI</a></p>\n",
       "\n",
       "            <dl>\n",
       "              <dt>Version</dt>\n",
       "                <dd><code>v3.0.0</code></dd>\n",
       "              <dt>Master</dt>\n",
       "                <dd><code>local[*]</code></dd>\n",
       "              <dt>AppName</dt>\n",
       "                <dd><code>Mi Api Spark</code></dd>\n",
       "            </dl>\n",
       "        </div>\n",
       "        \n",
       "            </div>\n",
       "        "
      ],
      "text/plain": [
       "<pyspark.sql.session.SparkSession at 0x291f81bd308>"
      ]
     },
     "execution_count": 2,
     "metadata": {},
     "output_type": "execute_result"
    }
   ],
   "source": [
    "spark"
   ]
  },
  {
   "cell_type": "markdown",
   "metadata": {},
   "source": [
    "# Creación de DataFrames\n",
    "\n",
    "A continuación se presenta la carga de DataFrames."
   ]
  },
  {
   "cell_type": "code",
   "execution_count": 22,
   "metadata": {},
   "outputs": [
    {
     "name": "stdout",
     "output_type": "stream",
     "text": [
      "root\n",
      " |-- _c0: integer (nullable = true)\n",
      " |-- Ã¯Â»Â¿estu_exam_nombreexamen: string (nullable = true)\n",
      " |-- estu_estudiante: integer (nullable = true)\n",
      " |-- periodo: integer (nullable = true)\n",
      " |-- estu_consecutivo: string (nullable = true)\n",
      " |-- estu_edad: double (nullable = true)\n",
      " |-- estu_tipo_documento: string (nullable = true)\n",
      " |-- estu_pais_reside: string (nullable = true)\n",
      " |-- estu_genero: string (nullable = true)\n",
      " |-- estu_nacimiento_dia: double (nullable = true)\n",
      " |-- estu_nacimiento_mes: double (nullable = true)\n",
      " |-- estu_nacimiento_anno: double (nullable = true)\n",
      " |-- estu_cod_reside_mcpio: double (nullable = true)\n",
      " |-- estu_reside_mcpio: string (nullable = true)\n",
      " |-- estu_reside_depto: string (nullable = true)\n",
      " |-- estu_zona_reside: double (nullable = true)\n",
      " |-- estu_area_reside: double (nullable = true)\n",
      " |-- cole_valor_pension: double (nullable = true)\n",
      " |-- estu_trabaja: double (nullable = true)\n",
      " |-- fami_estrato_vivienda: double (nullable = true)\n",
      " |-- estu_ies_cod_deseada: double (nullable = true)\n",
      " |-- estu_ies_deseada_nombre: string (nullable = true)\n",
      " |-- estu_ies_cod_mpio_deseada: double (nullable = true)\n",
      " |-- estu_ies_mpio_deseada: string (nullable = true)\n",
      " |-- estu_ies_dept_deseada: string (nullable = true)\n",
      " |-- estu_mpio_presentacion: string (nullable = true)\n",
      " |-- estu_dept_presentacion: string (nullable = true)\n",
      " |-- estu_exam_cod_mpio_presentacio: integer (nullable = true)\n",
      " |-- estu_veces_estado: double (nullable = true)\n",
      " |-- estu_carrdeseada_tipo: double (nullable = true)\n",
      " |-- fami_educa_padre: double (nullable = true)\n",
      " |-- fami_educa_madre: double (nullable = true)\n",
      " |-- fami_ocup_padre: double (nullable = true)\n",
      " |-- fami_ocup_madre: double (nullable = true)\n",
      " |-- fami_nivel_sisben: double (nullable = true)\n",
      " |-- fami_pisos_hogar: double (nullable = true)\n",
      " |-- fami_personas_hogar: double (nullable = true)\n",
      " |-- fami_telefono_fijo: double (nullable = true)\n",
      " |-- fami_celular: double (nullable = true)\n",
      " |-- fami_internet: double (nullable = true)\n",
      " |-- fami_servicio_television: double (nullable = true)\n",
      " |-- fami_computador: double (nullable = true)\n",
      " |-- fami_lavadora: double (nullable = true)\n",
      " |-- fami_nevera: double (nullable = true)\n",
      " |-- fami_horno: double (nullable = true)\n",
      " |-- fami_dvd: double (nullable = true)\n",
      " |-- fami_microondas: double (nullable = true)\n",
      " |-- fami_automovil: double (nullable = true)\n",
      " |-- fami_ing_fmiliar_mensual: double (nullable = true)\n",
      " |-- estu_anos_preescolar: double (nullable = true)\n",
      " |-- estu_ano_matricula_primero: double (nullable = true)\n",
      " |-- estu_ano_termino_quinto: double (nullable = true)\n",
      " |-- estu_ano_matricula_sexto: double (nullable = true)\n",
      " |-- estu_reprobo_primero: double (nullable = true)\n",
      " |-- estu_reprobo_segundo: double (nullable = true)\n",
      " |-- estu_reprobo_tercero: double (nullable = true)\n",
      " |-- estu_reprobo_cuarto: double (nullable = true)\n",
      " |-- estu_reprobo_quinto: double (nullable = true)\n",
      " |-- estu_reprobo_sexto: double (nullable = true)\n",
      " |-- estu_reprobo_septimo: double (nullable = true)\n",
      " |-- estu_reprobo_octavo: double (nullable = true)\n",
      " |-- estu_reprobo_noveno: double (nullable = true)\n",
      " |-- estu_reprobo_decimo: double (nullable = true)\n",
      " |-- estu_reprobo_once_mas: double (nullable = true)\n",
      " |-- estu_anos_colegio_actual: double (nullable = true)\n",
      " |-- estu_cuantos_cole_estudio: double (nullable = true)\n",
      " |-- estu_razon_retiro: double (nullable = true)\n",
      " |-- estu_total_alumnos_curso: double (nullable = true)\n",
      " |-- estu_prestigioinstitucion: double (nullable = true)\n",
      " |-- estu_por_ubicacion: double (nullable = true)\n",
      " |-- estu_por_unicaqueofrece: double (nullable = true)\n",
      " |-- estu_por_amigosestudiando: double (nullable = true)\n",
      " |-- estu_por_otrarazon: double (nullable = true)\n",
      " |-- estu_por_orientacionvocacional: double (nullable = true)\n",
      " |-- estu_por_tradicionfamiliar: double (nullable = true)\n",
      " |-- estu_por_influenciaalguien: double (nullable = true)\n",
      " |-- cole_cod_icfes: integer (nullable = true)\n",
      " |-- cole_cod_dane_institucion: string (nullable = true)\n",
      " |-- cole_nombre_sede: string (nullable = true)\n",
      " |-- cole_cod_mcpio_ubicacion: integer (nullable = true)\n",
      " |-- cole_calendario: string (nullable = true)\n",
      " |-- cole_genero: string (nullable = true)\n",
      " |-- cole_naturaleza: string (nullable = true)\n",
      " |-- cole_bilingue: double (nullable = true)\n",
      " |-- cole_jornada: string (nullable = true)\n",
      " |-- cole_caracter: string (nullable = true)\n",
      " |-- punt_lenguaje: string (nullable = true)\n",
      " |-- punt_matematicas: string (nullable = true)\n",
      " |-- punt_c_sociales: string (nullable = true)\n",
      " |-- punt_filosofia: string (nullable = true)\n",
      " |-- punt_biologia: string (nullable = true)\n",
      " |-- punt_quimica: string (nullable = true)\n",
      " |-- punt_fisica: string (nullable = true)\n",
      " |-- punt_ingles: string (nullable = true)\n",
      " |-- desemp_ingles: string (nullable = true)\n",
      " |-- nombre_comp_flexible: string (nullable = true)\n",
      " |-- punt_comp_flexible: string (nullable = true)\n",
      " |-- desemp_comp_flexible: string (nullable = true)\n",
      " |-- estu_puesto: integer (nullable = true)\n",
      " |-- punt_biologia_recal: string (nullable = true)\n",
      " |-- punt_c_sociales_recal: string (nullable = true)\n",
      " |-- punt_filosofia_recal: string (nullable = true)\n",
      " |-- punt_fisica_recal: string (nullable = true)\n",
      " |-- punt_ingles_recal: string (nullable = true)\n",
      " |-- punt_lenguaje_recal: string (nullable = true)\n",
      " |-- punt_matematicas_recal: string (nullable = true)\n",
      " |-- punt_quimica_recal: string (nullable = true)\n",
      "\n"
     ]
    }
   ],
   "source": [
    "##\n",
    "## Row representa una fila en un RDD\n",
    "##\n",
    "from pyspark.sql import Row\n",
    "##\n",
    "## Crea un DataFrame a partir del archivo con\n",
    "## formato CSV\n",
    "##\n",
    "df = spark.read.load(\"D:\\\\CLASES\\ELECTIVA 3 BigData\\\\Clase5_Ejercicos_Spark\\\\DATOS\\\\icfes.txt\",\n",
    "                     format=\"csv\",\n",
    "                     sep=\"|\",\n",
    "                     inferSchema= True,\n",
    "                     #encoding='latin1',\n",
    "                     #encoding='utf-8',\n",
    "                     encoding=\"iso-8859-1\",\n",
    "                     decimal=\",\",\n",
    "                     header=\"true\")\n",
    "df.printSchema()"
   ]
  },
  {
   "cell_type": "code",
   "execution_count": 23,
   "metadata": {},
   "outputs": [
    {
     "name": "stdout",
     "output_type": "stream",
     "text": [
      "+------------+\n",
      "|punt_quimica|\n",
      "+------------+\n",
      "|        54,1|\n",
      "|       46,19|\n",
      "|       54,61|\n",
      "|       61,96|\n",
      "|       51,58|\n",
      "|        54,1|\n",
      "|       51,58|\n",
      "|       51,58|\n",
      "|       52,07|\n",
      "|       49,44|\n",
      "|          59|\n",
      "|       51,58|\n",
      "|        54,1|\n",
      "|       69,14|\n",
      "|       51,58|\n",
      "|       52,07|\n",
      "|       63,93|\n",
      "|       46,66|\n",
      "|       57,08|\n",
      "|       40,31|\n",
      "+------------+\n",
      "only showing top 20 rows\n",
      "\n"
     ]
    }
   ],
   "source": [
    "##\n",
    "## Selección de una columna en particular\n",
    "##\n",
    "df.select('punt_quimica').show()"
   ]
  },
  {
   "cell_type": "code",
   "execution_count": 24,
   "metadata": {},
   "outputs": [],
   "source": [
    "from pyspark.sql.functions import regexp_replace\n",
    "df = (\n",
    "         df\n",
    "         .withColumn('punt_quimica', regexp_replace('punt_quimica', ',', '.'))\n",
    "         .withColumn('punt_lenguaje', regexp_replace('punt_lenguaje', ',', '.'))\n",
    "         .withColumn('punt_matematicas', regexp_replace('punt_matematicas', ',', '.'))\n",
    "         .withColumn('punt_c_sociales', regexp_replace('punt_c_sociales', ',', '.'))    \n",
    "         .withColumn('punt_filosofia', regexp_replace('punt_filosofia', ',', '.'))  \n",
    "         .withColumn('punt_biologia', regexp_replace('punt_biologia', ',', '.'))    \n",
    "         .withColumn('punt_fisica', regexp_replace('punt_fisica', ',', '.'))    \n",
    "         .withColumn('punt_ingles', regexp_replace('punt_ingles', ',', '.'))  \n",
    "     )"
   ]
  },
  {
   "cell_type": "markdown",
   "metadata": {},
   "source": [
    "# Castear una columna"
   ]
  },
  {
   "cell_type": "code",
   "execution_count": 25,
   "metadata": {},
   "outputs": [
    {
     "name": "stdout",
     "output_type": "stream",
     "text": [
      "root\n",
      " |-- _c0: integer (nullable = true)\n",
      " |-- Ã¯Â»Â¿estu_exam_nombreexamen: string (nullable = true)\n",
      " |-- estu_estudiante: integer (nullable = true)\n",
      " |-- periodo: integer (nullable = true)\n",
      " |-- estu_consecutivo: string (nullable = true)\n",
      " |-- estu_edad: double (nullable = true)\n",
      " |-- estu_tipo_documento: string (nullable = true)\n",
      " |-- estu_pais_reside: string (nullable = true)\n",
      " |-- estu_genero: string (nullable = true)\n",
      " |-- estu_nacimiento_dia: double (nullable = true)\n",
      " |-- estu_nacimiento_mes: double (nullable = true)\n",
      " |-- estu_nacimiento_anno: double (nullable = true)\n",
      " |-- estu_cod_reside_mcpio: double (nullable = true)\n",
      " |-- estu_reside_mcpio: string (nullable = true)\n",
      " |-- estu_reside_depto: string (nullable = true)\n",
      " |-- estu_zona_reside: double (nullable = true)\n",
      " |-- estu_area_reside: double (nullable = true)\n",
      " |-- cole_valor_pension: double (nullable = true)\n",
      " |-- estu_trabaja: double (nullable = true)\n",
      " |-- fami_estrato_vivienda: double (nullable = true)\n",
      " |-- estu_ies_cod_deseada: double (nullable = true)\n",
      " |-- estu_ies_deseada_nombre: string (nullable = true)\n",
      " |-- estu_ies_cod_mpio_deseada: double (nullable = true)\n",
      " |-- estu_ies_mpio_deseada: string (nullable = true)\n",
      " |-- estu_ies_dept_deseada: string (nullable = true)\n",
      " |-- estu_mpio_presentacion: string (nullable = true)\n",
      " |-- estu_dept_presentacion: string (nullable = true)\n",
      " |-- estu_exam_cod_mpio_presentacio: integer (nullable = true)\n",
      " |-- estu_veces_estado: double (nullable = true)\n",
      " |-- estu_carrdeseada_tipo: double (nullable = true)\n",
      " |-- fami_educa_padre: double (nullable = true)\n",
      " |-- fami_educa_madre: double (nullable = true)\n",
      " |-- fami_ocup_padre: double (nullable = true)\n",
      " |-- fami_ocup_madre: double (nullable = true)\n",
      " |-- fami_nivel_sisben: double (nullable = true)\n",
      " |-- fami_pisos_hogar: double (nullable = true)\n",
      " |-- fami_personas_hogar: double (nullable = true)\n",
      " |-- fami_telefono_fijo: double (nullable = true)\n",
      " |-- fami_celular: double (nullable = true)\n",
      " |-- fami_internet: double (nullable = true)\n",
      " |-- fami_servicio_television: double (nullable = true)\n",
      " |-- fami_computador: double (nullable = true)\n",
      " |-- fami_lavadora: double (nullable = true)\n",
      " |-- fami_nevera: double (nullable = true)\n",
      " |-- fami_horno: double (nullable = true)\n",
      " |-- fami_dvd: double (nullable = true)\n",
      " |-- fami_microondas: double (nullable = true)\n",
      " |-- fami_automovil: double (nullable = true)\n",
      " |-- fami_ing_fmiliar_mensual: double (nullable = true)\n",
      " |-- estu_anos_preescolar: double (nullable = true)\n",
      " |-- estu_ano_matricula_primero: double (nullable = true)\n",
      " |-- estu_ano_termino_quinto: double (nullable = true)\n",
      " |-- estu_ano_matricula_sexto: double (nullable = true)\n",
      " |-- estu_reprobo_primero: double (nullable = true)\n",
      " |-- estu_reprobo_segundo: double (nullable = true)\n",
      " |-- estu_reprobo_tercero: double (nullable = true)\n",
      " |-- estu_reprobo_cuarto: double (nullable = true)\n",
      " |-- estu_reprobo_quinto: double (nullable = true)\n",
      " |-- estu_reprobo_sexto: double (nullable = true)\n",
      " |-- estu_reprobo_septimo: double (nullable = true)\n",
      " |-- estu_reprobo_octavo: double (nullable = true)\n",
      " |-- estu_reprobo_noveno: double (nullable = true)\n",
      " |-- estu_reprobo_decimo: double (nullable = true)\n",
      " |-- estu_reprobo_once_mas: double (nullable = true)\n",
      " |-- estu_anos_colegio_actual: double (nullable = true)\n",
      " |-- estu_cuantos_cole_estudio: double (nullable = true)\n",
      " |-- estu_razon_retiro: double (nullable = true)\n",
      " |-- estu_total_alumnos_curso: double (nullable = true)\n",
      " |-- estu_prestigioinstitucion: double (nullable = true)\n",
      " |-- estu_por_ubicacion: double (nullable = true)\n",
      " |-- estu_por_unicaqueofrece: double (nullable = true)\n",
      " |-- estu_por_amigosestudiando: double (nullable = true)\n",
      " |-- estu_por_otrarazon: double (nullable = true)\n",
      " |-- estu_por_orientacionvocacional: double (nullable = true)\n",
      " |-- estu_por_tradicionfamiliar: double (nullable = true)\n",
      " |-- estu_por_influenciaalguien: double (nullable = true)\n",
      " |-- cole_cod_icfes: integer (nullable = true)\n",
      " |-- cole_cod_dane_institucion: string (nullable = true)\n",
      " |-- cole_nombre_sede: string (nullable = true)\n",
      " |-- cole_cod_mcpio_ubicacion: integer (nullable = true)\n",
      " |-- cole_calendario: string (nullable = true)\n",
      " |-- cole_genero: string (nullable = true)\n",
      " |-- cole_naturaleza: string (nullable = true)\n",
      " |-- cole_bilingue: double (nullable = true)\n",
      " |-- cole_jornada: string (nullable = true)\n",
      " |-- cole_caracter: string (nullable = true)\n",
      " |-- punt_lenguaje: double (nullable = true)\n",
      " |-- punt_matematicas: double (nullable = true)\n",
      " |-- punt_c_sociales: double (nullable = true)\n",
      " |-- punt_filosofia: double (nullable = true)\n",
      " |-- punt_biologia: double (nullable = true)\n",
      " |-- punt_quimica: double (nullable = true)\n",
      " |-- punt_fisica: double (nullable = true)\n",
      " |-- punt_ingles: double (nullable = true)\n",
      " |-- desemp_ingles: string (nullable = true)\n",
      " |-- nombre_comp_flexible: string (nullable = true)\n",
      " |-- punt_comp_flexible: string (nullable = true)\n",
      " |-- desemp_comp_flexible: string (nullable = true)\n",
      " |-- estu_puesto: integer (nullable = true)\n",
      " |-- punt_biologia_recal: string (nullable = true)\n",
      " |-- punt_c_sociales_recal: string (nullable = true)\n",
      " |-- punt_filosofia_recal: string (nullable = true)\n",
      " |-- punt_fisica_recal: string (nullable = true)\n",
      " |-- punt_ingles_recal: string (nullable = true)\n",
      " |-- punt_lenguaje_recal: string (nullable = true)\n",
      " |-- punt_matematicas_recal: string (nullable = true)\n",
      " |-- punt_quimica_recal: string (nullable = true)\n",
      "\n"
     ]
    }
   ],
   "source": [
    "from pyspark.sql.types import *\n",
    "df = (df\n",
    "      .withColumn(\"punt_quimica\", df[\"punt_quimica\"].cast(DoubleType()))\n",
    "      .withColumn('punt_lenguaje', df[\"punt_lenguaje\"].cast(DoubleType()))\n",
    "      .withColumn('punt_matematicas', df[\"punt_matematicas\"].cast(DoubleType()))\n",
    "      .withColumn('punt_c_sociales', df[\"punt_c_sociales\"].cast(DoubleType()))  \n",
    "      .withColumn('punt_filosofia',df[\"punt_filosofia\"].cast(DoubleType()))\n",
    "      .withColumn('punt_biologia', df[\"punt_biologia\"].cast(DoubleType())) \n",
    "      .withColumn('punt_fisica', df[\"punt_fisica\"].cast(DoubleType())) \n",
    "      .withColumn('punt_ingles', df[\"punt_ingles\"].cast(DoubleType()))\n",
    "     )\n",
    "df.printSchema()"
   ]
  },
  {
   "cell_type": "code",
   "execution_count": 26,
   "metadata": {},
   "outputs": [
    {
     "name": "stdout",
     "output_type": "stream",
     "text": [
      "+------------+-------------+----------------+---------------+--------------+-------------+-----------+-----------+\n",
      "|punt_quimica|punt_lenguaje|punt_matematicas|punt_c_sociales|punt_filosofia|punt_biologia|punt_fisica|punt_ingles|\n",
      "+------------+-------------+----------------+---------------+--------------+-------------+-----------+-----------+\n",
      "|        54.1|         53.5|           42.46|          46.44|         53.93|        32.02|      54.26|      41.66|\n",
      "|       46.19|        50.45|           53.16|          31.42|         47.74|        36.32|      54.26|      49.66|\n",
      "|       54.61|        50.45|           60.51|          53.57|         40.54|         50.4|      54.13|      61.66|\n",
      "|       61.96|        47.24|           48.09|          62.57|         53.93|         58.6|      54.13|      46.27|\n",
      "|       51.58|        67.92|            63.5|          53.02|         48.66|        52.34|      69.98|      66.95|\n",
      "+------------+-------------+----------------+---------------+--------------+-------------+-----------+-----------+\n",
      "only showing top 5 rows\n",
      "\n"
     ]
    }
   ],
   "source": [
    "##\n",
    "## Selección de una columna en particular\n",
    "##\n",
    "df.select('punt_quimica','punt_lenguaje','punt_matematicas','punt_c_sociales','punt_filosofia',\n",
    "         'punt_biologia','punt_fisica','punt_ingles').show(5)"
   ]
  },
  {
   "cell_type": "markdown",
   "metadata": {},
   "source": [
    "### Describir los datos\n",
    "\n",
    "Para obtener un resumen de estadísticas, de los datos, puede utilizar describe (). Se calculará el:\n",
    "\n",
    "conteo\n",
    "\n",
    "promedio\n",
    "\n",
    "desviación estándar\n",
    "\n",
    "mín\n",
    "\n",
    "Máx"
   ]
  },
  {
   "cell_type": "code",
   "execution_count": 27,
   "metadata": {},
   "outputs": [
    {
     "name": "stdout",
     "output_type": "stream",
     "text": [
      "+-------+-----------------+-----------------+-----------------+\n",
      "|summary|     punt_quimica|    punt_lenguaje| punt_matematicas|\n",
      "+-------+-----------------+-----------------+-----------------+\n",
      "|  count|           540450|           540450|           540450|\n",
      "|   mean|50.00428957353922| 50.0115632343615| 50.0023574243469|\n",
      "| stddev|10.00356432408966|9.968519858340951|10.00281073604555|\n",
      "|    min|              0.0|              0.0|              0.0|\n",
      "|    max|            118.8|           113.19|           114.88|\n",
      "+-------+-----------------+-----------------+-----------------+\n",
      "\n"
     ]
    }
   ],
   "source": [
    "df.select('punt_quimica','punt_lenguaje','punt_matematicas').describe().show()"
   ]
  },
  {
   "cell_type": "code",
   "execution_count": 28,
   "metadata": {},
   "outputs": [
    {
     "name": "stdout",
     "output_type": "stream",
     "text": [
      "+------------+-------------+----------------+---------------+--------------+-------------+-----------+-----------+\n",
      "|punt_quimica|punt_lenguaje|punt_matematicas|punt_c_sociales|punt_filosofia|punt_biologia|punt_fisica|punt_ingles|\n",
      "+------------+-------------+----------------+---------------+--------------+-------------+-----------+-----------+\n",
      "|        54.1|         53.5|           42.46|          46.44|         53.93|        32.02|      54.26|      41.66|\n",
      "|       46.19|        50.45|           53.16|          31.42|         47.74|        36.32|      54.26|      49.66|\n",
      "|       54.61|        50.45|           60.51|          53.57|         40.54|         50.4|      54.13|      61.66|\n",
      "|       61.96|        47.24|           48.09|          62.57|         53.93|         58.6|      54.13|      46.27|\n",
      "|       51.58|        67.92|            63.5|          53.02|         48.66|        52.34|      69.98|      66.95|\n",
      "+------------+-------------+----------------+---------------+--------------+-------------+-----------+-----------+\n",
      "only showing top 5 rows\n",
      "\n"
     ]
    }
   ],
   "source": [
    "df1=df.selectExpr('cast(punt_quimica as double)','cast(punt_lenguaje as double )',\n",
    "                  'cast(punt_matematicas as double)','cast(punt_c_sociales as double)','cast(punt_filosofia as double)',\n",
    "         'cast(punt_biologia as double)','cast(punt_fisica as double)','cast(punt_ingles as double)')\n",
    "\n",
    "df1.show(5)"
   ]
  },
  {
   "cell_type": "markdown",
   "metadata": {},
   "source": [
    "# Filtrado de registros usando condicionales"
   ]
  },
  {
   "cell_type": "code",
   "execution_count": 29,
   "metadata": {},
   "outputs": [
    {
     "name": "stdout",
     "output_type": "stream",
     "text": [
      "+----------------------+------------+\n",
      "|estu_mpio_presentacion|punt_quimica|\n",
      "+----------------------+------------+\n",
      "|             TUQUERRES|       49.44|\n",
      "|             TUQUERRES|       51.58|\n",
      "|             TUQUERRES|       43.65|\n",
      "|             TUQUERRES|       61.43|\n",
      "|             TUQUERRES|       59.52|\n",
      "+----------------------+------------+\n",
      "only showing top 5 rows\n",
      "\n"
     ]
    }
   ],
   "source": [
    "df.select('estu_mpio_presentacion','punt_quimica').filter(df['estu_mpio_presentacion'] == 'TUQUERRES').show(5)"
   ]
  },
  {
   "cell_type": "markdown",
   "metadata": {},
   "source": [
    "# Funciones de agregación "
   ]
  },
  {
   "cell_type": "code",
   "execution_count": 30,
   "metadata": {},
   "outputs": [
    {
     "name": "stdout",
     "output_type": "stream",
     "text": [
      "+-----------------+\n",
      "|max(punt_quimica)|\n",
      "+-----------------+\n",
      "|            118.8|\n",
      "+-----------------+\n",
      "\n"
     ]
    }
   ],
   "source": [
    "##\n",
    "## La función agg recibe un diccionario que indica\n",
    "## con que función (valor del diccionario) se agrega\n",
    "## una determinada columna (clave del diccionario)\n",
    "##\n",
    "df1.agg({\"punt_quimica\": \"max\"}).show()"
   ]
  },
  {
   "cell_type": "markdown",
   "metadata": {},
   "source": [
    "# Group by"
   ]
  },
  {
   "cell_type": "code",
   "execution_count": 31,
   "metadata": {},
   "outputs": [
    {
     "name": "stdout",
     "output_type": "stream",
     "text": [
      "+----------------------+-----+\n",
      "|estu_dept_presentacion|count|\n",
      "+----------------------+-----+\n",
      "|             SANTANDER|27397|\n",
      "|            BOYACÃï¿½|18816|\n",
      "|            VAUPÃâ°S|  248|\n",
      "|              CASANARE| 4821|\n",
      "|                  META|10576|\n",
      "|              AMAZONAS|  720|\n",
      "|              GUAVIARE|  840|\n",
      "|                 CAUCA|11663|\n",
      "|               VICHADA|  464|\n",
      "|       NORTE SANTANDER|16405|\n",
      "|             ANTIOQUIA|76346|\n",
      "|         ATLÃï¿½NTICO|28268|\n",
      "|                CALDAS|12361|\n",
      "|           QUINDÃï¿½O| 7039|\n",
      "|          CUNDINAMARCA|34263|\n",
      "|            NARIÃâO|15092|\n",
      "|            LA GUAJIRA| 6364|\n",
      "|             CHOCÃâ| 4015|\n",
      "|                TOLIMA|16094|\n",
      "|           GUAINÃï¿½A|  153|\n",
      "+----------------------+-----+\n",
      "only showing top 20 rows\n",
      "\n"
     ]
    }
   ],
   "source": [
    "##\n",
    "## Cuenta cuandos registros hay por cada valor en\n",
    "## la columna quantity\n",
    "##\n",
    "df.groupBy('estu_dept_presentacion').count().show()"
   ]
  },
  {
   "cell_type": "code",
   "execution_count": 32,
   "metadata": {},
   "outputs": [
    {
     "name": "stdout",
     "output_type": "stream",
     "text": [
      "+----------------------+-----+\n",
      "|estu_dept_presentacion|count|\n",
      "+----------------------+-----+\n",
      "|           GUAINÃï¿½A|  153|\n",
      "|            VAUPÃâ°S|  248|\n",
      "|               VICHADA|  464|\n",
      "|              AMAZONAS|  720|\n",
      "|              GUAVIARE|  840|\n",
      "|        SAN ANDRÃâ°S|  879|\n",
      "|                ARAUCA| 3087|\n",
      "|              PUTUMAYO| 3158|\n",
      "|             CHOCÃâ| 4015|\n",
      "|           CAQUETÃï¿½| 4176|\n",
      "|              CASANARE| 4821|\n",
      "|            LA GUAJIRA| 6364|\n",
      "|           QUINDÃï¿½O| 7039|\n",
      "|                  META|10576|\n",
      "|                 SUCRE|10625|\n",
      "|             RISARALDA|10907|\n",
      "|                 CESAR|11650|\n",
      "|                 CAUCA|11663|\n",
      "|                CALDAS|12361|\n",
      "|                 HUILA|13044|\n",
      "|             MAGDALENA|13398|\n",
      "|            NARIÃâO|15092|\n",
      "|                TOLIMA|16094|\n",
      "|       NORTE SANTANDER|16405|\n",
      "|           CÃâRDOBA|17880|\n",
      "|            BOYACÃï¿½|18816|\n",
      "|           BOLÃï¿½VAR|24688|\n",
      "|             SANTANDER|27397|\n",
      "|         ATLÃï¿½NTICO|28268|\n",
      "|          CUNDINAMARCA|34263|\n",
      "|                 VALLE|37047|\n",
      "|             ANTIOQUIA|76346|\n",
      "|            BOGOTÃï¿½|97966|\n",
      "+----------------------+-----+\n",
      "\n"
     ]
    }
   ],
   "source": [
    "df.groupBy('estu_dept_presentacion').count().sort(\"count\",ascending=True).show(36)"
   ]
  },
  {
   "cell_type": "markdown",
   "metadata": {},
   "source": [
    "### Colar columna\n",
    "\n",
    "Hay dos API intuitivas para soltar columnas:\n",
    "    \n",
    "    drop (): soltar una columna\n",
    "        \n",
    "    dropna (): Dejar caer NA"
   ]
  },
  {
   "cell_type": "code",
   "execution_count": 33,
   "metadata": {},
   "outputs": [
    {
     "name": "stdout",
     "output_type": "stream",
     "text": [
      "root\n",
      " |-- _c0: integer (nullable = true)\n",
      " |-- estu_estudiante: integer (nullable = true)\n",
      " |-- periodo: integer (nullable = true)\n",
      " |-- estu_consecutivo: string (nullable = true)\n",
      " |-- estu_edad: double (nullable = true)\n",
      " |-- estu_tipo_documento: string (nullable = true)\n",
      " |-- estu_pais_reside: string (nullable = true)\n",
      " |-- estu_genero: string (nullable = true)\n",
      " |-- estu_nacimiento_dia: double (nullable = true)\n",
      " |-- estu_nacimiento_mes: double (nullable = true)\n",
      " |-- estu_nacimiento_anno: double (nullable = true)\n",
      " |-- estu_cod_reside_mcpio: double (nullable = true)\n",
      " |-- estu_reside_mcpio: string (nullable = true)\n",
      " |-- estu_reside_depto: string (nullable = true)\n",
      " |-- estu_zona_reside: double (nullable = true)\n",
      " |-- estu_area_reside: double (nullable = true)\n",
      " |-- cole_valor_pension: double (nullable = true)\n",
      " |-- estu_trabaja: double (nullable = true)\n",
      " |-- fami_estrato_vivienda: double (nullable = true)\n",
      " |-- estu_ies_cod_deseada: double (nullable = true)\n",
      " |-- estu_ies_deseada_nombre: string (nullable = true)\n",
      " |-- estu_ies_cod_mpio_deseada: double (nullable = true)\n",
      " |-- estu_ies_mpio_deseada: string (nullable = true)\n",
      " |-- estu_ies_dept_deseada: string (nullable = true)\n",
      " |-- estu_mpio_presentacion: string (nullable = true)\n",
      " |-- estu_dept_presentacion: string (nullable = true)\n",
      " |-- estu_exam_cod_mpio_presentacio: integer (nullable = true)\n",
      " |-- estu_veces_estado: double (nullable = true)\n",
      " |-- estu_carrdeseada_tipo: double (nullable = true)\n",
      " |-- fami_educa_padre: double (nullable = true)\n",
      " |-- fami_educa_madre: double (nullable = true)\n",
      " |-- fami_ocup_padre: double (nullable = true)\n",
      " |-- fami_ocup_madre: double (nullable = true)\n",
      " |-- fami_nivel_sisben: double (nullable = true)\n",
      " |-- fami_pisos_hogar: double (nullable = true)\n",
      " |-- fami_personas_hogar: double (nullable = true)\n",
      " |-- fami_telefono_fijo: double (nullable = true)\n",
      " |-- fami_celular: double (nullable = true)\n",
      " |-- fami_internet: double (nullable = true)\n",
      " |-- fami_servicio_television: double (nullable = true)\n",
      " |-- fami_computador: double (nullable = true)\n",
      " |-- fami_lavadora: double (nullable = true)\n",
      " |-- fami_nevera: double (nullable = true)\n",
      " |-- fami_horno: double (nullable = true)\n",
      " |-- fami_dvd: double (nullable = true)\n",
      " |-- fami_microondas: double (nullable = true)\n",
      " |-- fami_automovil: double (nullable = true)\n",
      " |-- fami_ing_fmiliar_mensual: double (nullable = true)\n",
      " |-- estu_anos_preescolar: double (nullable = true)\n",
      " |-- estu_ano_matricula_primero: double (nullable = true)\n",
      " |-- estu_ano_termino_quinto: double (nullable = true)\n",
      " |-- estu_ano_matricula_sexto: double (nullable = true)\n",
      " |-- estu_reprobo_primero: double (nullable = true)\n",
      " |-- estu_reprobo_segundo: double (nullable = true)\n",
      " |-- estu_reprobo_tercero: double (nullable = true)\n",
      " |-- estu_reprobo_cuarto: double (nullable = true)\n",
      " |-- estu_reprobo_quinto: double (nullable = true)\n",
      " |-- estu_reprobo_sexto: double (nullable = true)\n",
      " |-- estu_reprobo_septimo: double (nullable = true)\n",
      " |-- estu_reprobo_octavo: double (nullable = true)\n",
      " |-- estu_reprobo_noveno: double (nullable = true)\n",
      " |-- estu_reprobo_decimo: double (nullable = true)\n",
      " |-- estu_reprobo_once_mas: double (nullable = true)\n",
      " |-- estu_anos_colegio_actual: double (nullable = true)\n",
      " |-- estu_cuantos_cole_estudio: double (nullable = true)\n",
      " |-- estu_razon_retiro: double (nullable = true)\n",
      " |-- estu_total_alumnos_curso: double (nullable = true)\n",
      " |-- estu_prestigioinstitucion: double (nullable = true)\n",
      " |-- estu_por_ubicacion: double (nullable = true)\n",
      " |-- estu_por_unicaqueofrece: double (nullable = true)\n",
      " |-- estu_por_amigosestudiando: double (nullable = true)\n",
      " |-- estu_por_otrarazon: double (nullable = true)\n",
      " |-- estu_por_orientacionvocacional: double (nullable = true)\n",
      " |-- estu_por_tradicionfamiliar: double (nullable = true)\n",
      " |-- estu_por_influenciaalguien: double (nullable = true)\n",
      " |-- cole_cod_icfes: integer (nullable = true)\n",
      " |-- cole_cod_dane_institucion: string (nullable = true)\n",
      " |-- cole_nombre_sede: string (nullable = true)\n",
      " |-- cole_cod_mcpio_ubicacion: integer (nullable = true)\n",
      " |-- cole_calendario: string (nullable = true)\n",
      " |-- cole_genero: string (nullable = true)\n",
      " |-- cole_naturaleza: string (nullable = true)\n",
      " |-- cole_bilingue: double (nullable = true)\n",
      " |-- cole_jornada: string (nullable = true)\n",
      " |-- cole_caracter: string (nullable = true)\n",
      " |-- punt_lenguaje: double (nullable = true)\n",
      " |-- punt_matematicas: double (nullable = true)\n",
      " |-- punt_c_sociales: double (nullable = true)\n",
      " |-- punt_filosofia: double (nullable = true)\n",
      " |-- punt_biologia: double (nullable = true)\n",
      " |-- punt_quimica: double (nullable = true)\n",
      " |-- punt_fisica: double (nullable = true)\n",
      " |-- punt_ingles: double (nullable = true)\n",
      " |-- desemp_ingles: string (nullable = true)\n",
      " |-- nombre_comp_flexible: string (nullable = true)\n",
      " |-- punt_comp_flexible: string (nullable = true)\n",
      " |-- desemp_comp_flexible: string (nullable = true)\n",
      " |-- estu_puesto: integer (nullable = true)\n",
      " |-- punt_biologia_recal: string (nullable = true)\n",
      " |-- punt_c_sociales_recal: string (nullable = true)\n",
      " |-- punt_filosofia_recal: string (nullable = true)\n",
      " |-- punt_fisica_recal: string (nullable = true)\n",
      " |-- punt_ingles_recal: string (nullable = true)\n",
      " |-- punt_lenguaje_recal: string (nullable = true)\n",
      " |-- punt_matematicas_recal: string (nullable = true)\n",
      " |-- punt_quimica_recal: string (nullable = true)\n",
      "\n"
     ]
    }
   ],
   "source": [
    "df=df.drop('Ã¯Â»Â¿estu_exam_nombreexamen')\n",
    "df.printSchema()"
   ]
  },
  {
   "cell_type": "markdown",
   "metadata": {},
   "source": [
    "# Agregar nueva columna"
   ]
  },
  {
   "cell_type": "code",
   "execution_count": 34,
   "metadata": {},
   "outputs": [
    {
     "name": "stdout",
     "output_type": "stream",
     "text": [
      "root\n",
      " |-- _c0: integer (nullable = true)\n",
      " |-- estu_estudiante: integer (nullable = true)\n",
      " |-- periodo: integer (nullable = true)\n",
      " |-- estu_consecutivo: string (nullable = true)\n",
      " |-- estu_edad: double (nullable = true)\n",
      " |-- estu_tipo_documento: string (nullable = true)\n",
      " |-- estu_pais_reside: string (nullable = true)\n",
      " |-- estu_genero: string (nullable = true)\n",
      " |-- estu_nacimiento_dia: double (nullable = true)\n",
      " |-- estu_nacimiento_mes: double (nullable = true)\n",
      " |-- estu_nacimiento_anno: double (nullable = true)\n",
      " |-- estu_cod_reside_mcpio: double (nullable = true)\n",
      " |-- estu_reside_mcpio: string (nullable = true)\n",
      " |-- estu_reside_depto: string (nullable = true)\n",
      " |-- estu_zona_reside: double (nullable = true)\n",
      " |-- estu_area_reside: double (nullable = true)\n",
      " |-- cole_valor_pension: double (nullable = true)\n",
      " |-- estu_trabaja: double (nullable = true)\n",
      " |-- fami_estrato_vivienda: double (nullable = true)\n",
      " |-- estu_ies_cod_deseada: double (nullable = true)\n",
      " |-- estu_ies_deseada_nombre: string (nullable = true)\n",
      " |-- estu_ies_cod_mpio_deseada: double (nullable = true)\n",
      " |-- estu_ies_mpio_deseada: string (nullable = true)\n",
      " |-- estu_ies_dept_deseada: string (nullable = true)\n",
      " |-- estu_mpio_presentacion: string (nullable = true)\n",
      " |-- estu_dept_presentacion: string (nullable = true)\n",
      " |-- estu_exam_cod_mpio_presentacio: integer (nullable = true)\n",
      " |-- estu_veces_estado: double (nullable = true)\n",
      " |-- estu_carrdeseada_tipo: double (nullable = true)\n",
      " |-- fami_educa_padre: double (nullable = true)\n",
      " |-- fami_educa_madre: double (nullable = true)\n",
      " |-- fami_ocup_padre: double (nullable = true)\n",
      " |-- fami_ocup_madre: double (nullable = true)\n",
      " |-- fami_nivel_sisben: double (nullable = true)\n",
      " |-- fami_pisos_hogar: double (nullable = true)\n",
      " |-- fami_personas_hogar: double (nullable = true)\n",
      " |-- fami_telefono_fijo: double (nullable = true)\n",
      " |-- fami_celular: double (nullable = true)\n",
      " |-- fami_internet: double (nullable = true)\n",
      " |-- fami_servicio_television: double (nullable = true)\n",
      " |-- fami_computador: double (nullable = true)\n",
      " |-- fami_lavadora: double (nullable = true)\n",
      " |-- fami_nevera: double (nullable = true)\n",
      " |-- fami_horno: double (nullable = true)\n",
      " |-- fami_dvd: double (nullable = true)\n",
      " |-- fami_microondas: double (nullable = true)\n",
      " |-- fami_automovil: double (nullable = true)\n",
      " |-- fami_ing_fmiliar_mensual: double (nullable = true)\n",
      " |-- estu_anos_preescolar: double (nullable = true)\n",
      " |-- estu_ano_matricula_primero: double (nullable = true)\n",
      " |-- estu_ano_termino_quinto: double (nullable = true)\n",
      " |-- estu_ano_matricula_sexto: double (nullable = true)\n",
      " |-- estu_reprobo_primero: double (nullable = true)\n",
      " |-- estu_reprobo_segundo: double (nullable = true)\n",
      " |-- estu_reprobo_tercero: double (nullable = true)\n",
      " |-- estu_reprobo_cuarto: double (nullable = true)\n",
      " |-- estu_reprobo_quinto: double (nullable = true)\n",
      " |-- estu_reprobo_sexto: double (nullable = true)\n",
      " |-- estu_reprobo_septimo: double (nullable = true)\n",
      " |-- estu_reprobo_octavo: double (nullable = true)\n",
      " |-- estu_reprobo_noveno: double (nullable = true)\n",
      " |-- estu_reprobo_decimo: double (nullable = true)\n",
      " |-- estu_reprobo_once_mas: double (nullable = true)\n",
      " |-- estu_anos_colegio_actual: double (nullable = true)\n",
      " |-- estu_cuantos_cole_estudio: double (nullable = true)\n",
      " |-- estu_razon_retiro: double (nullable = true)\n",
      " |-- estu_total_alumnos_curso: double (nullable = true)\n",
      " |-- estu_prestigioinstitucion: double (nullable = true)\n",
      " |-- estu_por_ubicacion: double (nullable = true)\n",
      " |-- estu_por_unicaqueofrece: double (nullable = true)\n",
      " |-- estu_por_amigosestudiando: double (nullable = true)\n",
      " |-- estu_por_otrarazon: double (nullable = true)\n",
      " |-- estu_por_orientacionvocacional: double (nullable = true)\n",
      " |-- estu_por_tradicionfamiliar: double (nullable = true)\n",
      " |-- estu_por_influenciaalguien: double (nullable = true)\n",
      " |-- cole_cod_icfes: integer (nullable = true)\n",
      " |-- cole_cod_dane_institucion: string (nullable = true)\n",
      " |-- cole_nombre_sede: string (nullable = true)\n",
      " |-- cole_cod_mcpio_ubicacion: integer (nullable = true)\n",
      " |-- cole_calendario: string (nullable = true)\n",
      " |-- cole_genero: string (nullable = true)\n",
      " |-- cole_naturaleza: string (nullable = true)\n",
      " |-- cole_bilingue: double (nullable = true)\n",
      " |-- cole_jornada: string (nullable = true)\n",
      " |-- cole_caracter: string (nullable = true)\n",
      " |-- punt_lenguaje: double (nullable = true)\n",
      " |-- punt_matematicas: double (nullable = true)\n",
      " |-- punt_c_sociales: double (nullable = true)\n",
      " |-- punt_filosofia: double (nullable = true)\n",
      " |-- punt_biologia: double (nullable = true)\n",
      " |-- punt_quimica: double (nullable = true)\n",
      " |-- punt_fisica: double (nullable = true)\n",
      " |-- punt_ingles: double (nullable = true)\n",
      " |-- desemp_ingles: string (nullable = true)\n",
      " |-- nombre_comp_flexible: string (nullable = true)\n",
      " |-- punt_comp_flexible: string (nullable = true)\n",
      " |-- desemp_comp_flexible: string (nullable = true)\n",
      " |-- estu_puesto: integer (nullable = true)\n",
      " |-- punt_biologia_recal: string (nullable = true)\n",
      " |-- punt_c_sociales_recal: string (nullable = true)\n",
      " |-- punt_filosofia_recal: string (nullable = true)\n",
      " |-- punt_fisica_recal: string (nullable = true)\n",
      " |-- punt_ingles_recal: string (nullable = true)\n",
      " |-- punt_lenguaje_recal: string (nullable = true)\n",
      " |-- punt_matematicas_recal: string (nullable = true)\n",
      " |-- punt_quimica_recal: string (nullable = true)\n",
      " |-- prom_puntaje: double (nullable = true)\n",
      "\n"
     ]
    }
   ],
   "source": [
    "from pyspark.sql.functions import *\n",
    "\n",
    "\n",
    "\n",
    "df = df.withColumn(\n",
    "            \"prom_puntaje\",  \n",
    "                        (col('punt_quimica')+col('punt_lenguaje')+col('punt_matematicas')+col('punt_c_sociales')+\n",
    "                        col('punt_filosofia')+col('punt_biologia')+col('punt_fisica')+col('punt_ingles')\n",
    "                        )/8\n",
    ")\n",
    "df.printSchema()"
   ]
  },
  {
   "cell_type": "code",
   "execution_count": 35,
   "metadata": {},
   "outputs": [
    {
     "name": "stdout",
     "output_type": "stream",
     "text": [
      "+------------+-------------+----------------+---------------+--------------+-------------+-----------+-----------+------------------+\n",
      "|punt_quimica|punt_lenguaje|punt_matematicas|punt_c_sociales|punt_filosofia|punt_biologia|punt_fisica|punt_ingles|      prom_puntaje|\n",
      "+------------+-------------+----------------+---------------+--------------+-------------+-----------+-----------+------------------+\n",
      "|        54.1|         53.5|           42.46|          46.44|         53.93|        32.02|      54.26|      41.66|          47.29625|\n",
      "|       46.19|        50.45|           53.16|          31.42|         47.74|        36.32|      54.26|      49.66|46.150000000000006|\n",
      "|       54.61|        50.45|           60.51|          53.57|         40.54|         50.4|      54.13|      61.66|          53.23375|\n",
      "|       61.96|        47.24|           48.09|          62.57|         53.93|         58.6|      54.13|      46.27|          54.09875|\n",
      "|       51.58|        67.92|            63.5|          53.02|         48.66|        52.34|      69.98|      66.95|          59.24375|\n",
      "+------------+-------------+----------------+---------------+--------------+-------------+-----------+-----------+------------------+\n",
      "only showing top 5 rows\n",
      "\n"
     ]
    }
   ],
   "source": [
    "df.select('punt_quimica','punt_lenguaje','punt_matematicas','punt_c_sociales','punt_filosofia',\n",
    "         'punt_biologia','punt_fisica','punt_ingles','prom_puntaje').show(5)"
   ]
  },
  {
   "cell_type": "markdown",
   "metadata": {},
   "source": [
    "#   Consultas"
   ]
  },
  {
   "cell_type": "code",
   "execution_count": 40,
   "metadata": {},
   "outputs": [
    {
     "name": "stdout",
     "output_type": "stream",
     "text": [
      "+----------------------+------------------+\n",
      "|estu_dept_presentacion|              prom|\n",
      "+----------------------+------------------+\n",
      "|             SANTANDER| 51.39456642150607|\n",
      "|               CÓRDOBA| 48.70530893456379|\n",
      "|                NARIÑO|50.268969238669506|\n",
      "|               CAQUET�|48.144629430076634|\n",
      "|              CASANARE| 49.41455377515039|\n",
      "|                  META|49.952078881429635|\n",
      "|              AMAZONAS|46.779588541666676|\n",
      "|              GUAVIARE| 49.00277529761902|\n",
      "|                 CAUCA| 48.07004190602761|\n",
      "|               VICHADA| 47.66108297413794|\n",
      "|       NORTE SANTANDER|49.711838159097866|\n",
      "|                BOYAC�|50.835334622130105|\n",
      "|             ANTIOQUIA|49.688220273491616|\n",
      "|               BOL�VAR| 48.28452157930983|\n",
      "|                CALDAS| 50.32032208154682|\n",
      "|          CUNDINAMARCA|50.170810568251504|\n",
      "|             ATL�NTICO| 49.15129178753365|\n",
      "|            LA GUAJIRA| 47.16666463702075|\n",
      "|                TOLIMA| 49.58782349012058|\n",
      "|                ARAUCA| 48.98302761580823|\n",
      "|                BOGOT�| 52.46963076475524|\n",
      "|               GUAIN�A| 50.55856209150326|\n",
      "|                 HUILA| 49.76566390677699|\n",
      "|                 SUCRE| 48.53930223529411|\n",
      "|            SAN ANDRÉS| 48.71740756541525|\n",
      "|                 CHOCÓ|  45.4416413449564|\n",
      "|               QUIND�O|50.092511365250736|\n",
      "|             RISARALDA|50.173263385898956|\n",
      "|              PUTUMAYO| 49.80829836922103|\n",
      "|             MAGDALENA| 46.90630485893414|\n",
      "|                 VALLE|  49.2946812494938|\n",
      "|                VAUPÉS| 47.50980846774194|\n",
      "|                 CESAR|48.554050321888454|\n",
      "+----------------------+------------------+\n",
      "\n"
     ]
    }
   ],
   "source": [
    "# Se crea una vista temporal\n",
    "# que desaparece cuando se cierra la\n",
    "# sesión actual de Spark\n",
    "\n",
    "df.createOrReplaceTempView('icfesview') ## este es el nombre de la tabla\n",
    "\n",
    "## Se realiza la consulta usando directamente SQL\n",
    "spark.sql('SELECT estu_dept_presentacion,avg(cast(prom_puntaje as double)) as prom FROM icfesview group by estu_dept_presentacion').show(36)"
   ]
  },
  {
   "cell_type": "markdown",
   "metadata": {},
   "source": [
    "# Ejecución de SQL directamente sobre archivos\n",
    "\n",
    "Spark SQL permite ejecutar directamente SQL sobre archivos indicando el tipo de archivo."
   ]
  },
  {
   "cell_type": "code",
   "execution_count": 71,
   "metadata": {},
   "outputs": [
    {
     "name": "stdout",
     "output_type": "stream",
     "text": [
      "+--------------------+\n",
      "|                 _c0|\n",
      "+--------------------+\n",
      "||ï»¿estu_exam_nom...|\n",
      "|0|EXAMEN SABER 11...|\n",
      "|1|EXAMEN SABER 11...|\n",
      "|2|EXAMEN SABER 11...|\n",
      "|3|EXAMEN SABER 11...|\n",
      "|4|EXAMEN SABER 11...|\n",
      "|5|EXAMEN SABER 11...|\n",
      "|6|EXAMEN SABER 11...|\n",
      "|7|EXAMEN SABER 11...|\n",
      "|8|EXAMEN SABER 11...|\n",
      "+--------------------+\n",
      "only showing top 10 rows\n",
      "\n"
     ]
    }
   ],
   "source": [
    "##\n",
    "## SQL sobre un archivo en formato CSV. Note que\n",
    "## en lugar de la tabla se especifica el formato del\n",
    "## archivo (CSV) y entre comillas `` el nombre del\n",
    "## archivo.\n",
    "##\n",
    "spark.sql('SELECT (_c0) FROM csv.`D://CLASES//ELECTIVA 3 BigData//Clase5_Ejercicos_Spark/DATOS//icfes.txt`').show(10)"
   ]
  },
  {
   "cell_type": "markdown",
   "metadata": {},
   "source": [
    "# Persistir en disco"
   ]
  },
  {
   "cell_type": "code",
   "execution_count": 73,
   "metadata": {},
   "outputs": [],
   "source": [
    "##\n",
    "## Los resultados se escriben al disco con write.save().\n",
    "## El parámetro es el nombre del directorio. La llamada a\n",
    "## la función crea el archivo _SUCCESS que indica que la\n",
    "## función se ejecutó correctamente, y los archivos\n",
    "## con el resultado.\n",
    "##\n",
    "df.filter(df['estu_mpio_presentacion'] == 'TUQUERRES').write.save('D://CLASES//ELECTIVA 3 BigData//Clase5_Ejercicos_Spark/DATOS//icfes_t')"
   ]
  },
  {
   "cell_type": "markdown",
   "metadata": {},
   "source": [
    "# Solucionar problemas de encoding"
   ]
  },
  {
   "cell_type": "code",
   "execution_count": 38,
   "metadata": {},
   "outputs": [],
   "source": [
    "from pyspark.sql.functions import udf\n",
    "from ftfy import fix_encoding,fix_text\n",
    "\n",
    "def my_encoder(x):\n",
    "    x= fix_encoding(str(x))\n",
    "    x= fix_text(x)\n",
    "    return x\n",
    "my_encoder_udf = udf(my_encoder)\n",
    "\n",
    "df.dtypes\n",
    "for col_name in df.dtypes:\n",
    "    if col_name[1]=='string':\n",
    "        df=df.withColumn(col_name[0], my_encoder_udf(col_name[0]))\n",
    "\n"
   ]
  },
  {
   "cell_type": "code",
   "execution_count": 39,
   "metadata": {},
   "outputs": [
    {
     "name": "stdout",
     "output_type": "stream",
     "text": [
      "+----------------------+-----+\n",
      "|estu_dept_presentacion|count|\n",
      "+----------------------+-----+\n",
      "|               GUAIN�A|  153|\n",
      "|                VAUPÉS|  248|\n",
      "|               VICHADA|  464|\n",
      "|              AMAZONAS|  720|\n",
      "|              GUAVIARE|  840|\n",
      "|            SAN ANDRÉS|  879|\n",
      "|                ARAUCA| 3087|\n",
      "|              PUTUMAYO| 3158|\n",
      "|                 CHOCÓ| 4015|\n",
      "|               CAQUET�| 4176|\n",
      "|              CASANARE| 4821|\n",
      "|            LA GUAJIRA| 6364|\n",
      "|               QUIND�O| 7039|\n",
      "|                  META|10576|\n",
      "|                 SUCRE|10625|\n",
      "|             RISARALDA|10907|\n",
      "|                 CESAR|11650|\n",
      "|                 CAUCA|11663|\n",
      "|                CALDAS|12361|\n",
      "|                 HUILA|13044|\n",
      "|             MAGDALENA|13398|\n",
      "|                NARIÑO|15092|\n",
      "|                TOLIMA|16094|\n",
      "|       NORTE SANTANDER|16405|\n",
      "|               CÓRDOBA|17880|\n",
      "|                BOYAC�|18816|\n",
      "|               BOL�VAR|24688|\n",
      "|             SANTANDER|27397|\n",
      "|             ATL�NTICO|28268|\n",
      "|          CUNDINAMARCA|34263|\n",
      "|                 VALLE|37047|\n",
      "|             ANTIOQUIA|76346|\n",
      "|                BOGOT�|97966|\n",
      "+----------------------+-----+\n",
      "\n"
     ]
    }
   ],
   "source": [
    "df.groupBy('estu_dept_presentacion').count().sort(\"count\",ascending=True).show(36)"
   ]
  },
  {
   "cell_type": "code",
   "execution_count": 42,
   "metadata": {},
   "outputs": [
    {
     "name": "stdout",
     "output_type": "stream",
     "text": [
      "root\n",
      " |-- _c0: integer (nullable = true)\n",
      " |-- estu_estudiante: integer (nullable = true)\n",
      " |-- periodo: integer (nullable = true)\n",
      " |-- estu_consecutivo: string (nullable = true)\n",
      " |-- estu_edad: double (nullable = true)\n",
      " |-- estu_tipo_documento: string (nullable = true)\n",
      " |-- estu_pais_reside: string (nullable = true)\n",
      " |-- estu_genero: string (nullable = true)\n",
      " |-- estu_nacimiento_dia: double (nullable = true)\n",
      " |-- estu_nacimiento_mes: double (nullable = true)\n",
      " |-- estu_nacimiento_anno: double (nullable = true)\n",
      " |-- estu_cod_reside_mcpio: double (nullable = true)\n",
      " |-- estu_reside_mcpio: string (nullable = true)\n",
      " |-- estu_reside_depto: string (nullable = true)\n",
      " |-- estu_zona_reside: double (nullable = true)\n",
      " |-- estu_area_reside: double (nullable = true)\n",
      " |-- cole_valor_pension: double (nullable = true)\n",
      " |-- estu_trabaja: double (nullable = true)\n",
      " |-- fami_estrato_vivienda: double (nullable = true)\n",
      " |-- estu_ies_cod_deseada: double (nullable = true)\n",
      " |-- estu_ies_deseada_nombre: string (nullable = true)\n",
      " |-- estu_ies_cod_mpio_deseada: double (nullable = true)\n",
      " |-- estu_ies_mpio_deseada: string (nullable = true)\n",
      " |-- estu_ies_dept_deseada: string (nullable = true)\n",
      " |-- estu_mpio_presentacion: string (nullable = true)\n",
      " |-- estu_dept_presentacion: string (nullable = true)\n",
      " |-- estu_exam_cod_mpio_presentacio: integer (nullable = true)\n",
      " |-- estu_veces_estado: double (nullable = true)\n",
      " |-- estu_carrdeseada_tipo: double (nullable = true)\n",
      " |-- fami_educa_padre: double (nullable = true)\n",
      " |-- fami_educa_madre: double (nullable = true)\n",
      " |-- fami_ocup_padre: double (nullable = true)\n",
      " |-- fami_ocup_madre: double (nullable = true)\n",
      " |-- fami_nivel_sisben: double (nullable = true)\n",
      " |-- fami_pisos_hogar: double (nullable = true)\n",
      " |-- fami_personas_hogar: double (nullable = true)\n",
      " |-- fami_telefono_fijo: double (nullable = true)\n",
      " |-- fami_celular: double (nullable = true)\n",
      " |-- fami_internet: double (nullable = true)\n",
      " |-- fami_servicio_television: double (nullable = true)\n",
      " |-- fami_computador: double (nullable = true)\n",
      " |-- fami_lavadora: double (nullable = true)\n",
      " |-- fami_nevera: double (nullable = true)\n",
      " |-- fami_horno: double (nullable = true)\n",
      " |-- fami_dvd: double (nullable = true)\n",
      " |-- fami_microondas: double (nullable = true)\n",
      " |-- fami_automovil: double (nullable = true)\n",
      " |-- fami_ing_fmiliar_mensual: double (nullable = true)\n",
      " |-- estu_anos_preescolar: double (nullable = true)\n",
      " |-- estu_ano_matricula_primero: double (nullable = true)\n",
      " |-- estu_ano_termino_quinto: double (nullable = true)\n",
      " |-- estu_ano_matricula_sexto: double (nullable = true)\n",
      " |-- estu_reprobo_primero: double (nullable = true)\n",
      " |-- estu_reprobo_segundo: double (nullable = true)\n",
      " |-- estu_reprobo_tercero: double (nullable = true)\n",
      " |-- estu_reprobo_cuarto: double (nullable = true)\n",
      " |-- estu_reprobo_quinto: double (nullable = true)\n",
      " |-- estu_reprobo_sexto: double (nullable = true)\n",
      " |-- estu_reprobo_septimo: double (nullable = true)\n",
      " |-- estu_reprobo_octavo: double (nullable = true)\n",
      " |-- estu_reprobo_noveno: double (nullable = true)\n",
      " |-- estu_reprobo_decimo: double (nullable = true)\n",
      " |-- estu_reprobo_once_mas: double (nullable = true)\n",
      " |-- estu_anos_colegio_actual: double (nullable = true)\n",
      " |-- estu_cuantos_cole_estudio: double (nullable = true)\n",
      " |-- estu_razon_retiro: double (nullable = true)\n",
      " |-- estu_total_alumnos_curso: double (nullable = true)\n",
      " |-- estu_prestigioinstitucion: double (nullable = true)\n",
      " |-- estu_por_ubicacion: double (nullable = true)\n",
      " |-- estu_por_unicaqueofrece: double (nullable = true)\n",
      " |-- estu_por_amigosestudiando: double (nullable = true)\n",
      " |-- estu_por_otrarazon: double (nullable = true)\n",
      " |-- estu_por_orientacionvocacional: double (nullable = true)\n",
      " |-- estu_por_tradicionfamiliar: double (nullable = true)\n",
      " |-- estu_por_influenciaalguien: double (nullable = true)\n",
      " |-- cole_cod_icfes: integer (nullable = true)\n",
      " |-- cole_cod_dane_institucion: string (nullable = true)\n",
      " |-- cole_nombre_sede: string (nullable = true)\n",
      " |-- cole_cod_mcpio_ubicacion: integer (nullable = true)\n",
      " |-- cole_calendario: string (nullable = true)\n",
      " |-- cole_genero: string (nullable = true)\n",
      " |-- cole_naturaleza: string (nullable = true)\n",
      " |-- cole_bilingue: double (nullable = true)\n",
      " |-- cole_jornada: string (nullable = true)\n",
      " |-- cole_caracter: string (nullable = true)\n",
      " |-- punt_lenguaje: double (nullable = true)\n",
      " |-- punt_matematicas: double (nullable = true)\n",
      " |-- punt_c_sociales: double (nullable = true)\n",
      " |-- punt_filosofia: double (nullable = true)\n",
      " |-- punt_biologia: double (nullable = true)\n",
      " |-- punt_quimica: double (nullable = true)\n",
      " |-- punt_fisica: double (nullable = true)\n",
      " |-- punt_ingles: double (nullable = true)\n",
      " |-- desemp_ingles: string (nullable = true)\n",
      " |-- nombre_comp_flexible: string (nullable = true)\n",
      " |-- punt_comp_flexible: string (nullable = true)\n",
      " |-- desemp_comp_flexible: string (nullable = true)\n",
      " |-- estu_puesto: integer (nullable = true)\n",
      " |-- punt_biologia_recal: string (nullable = true)\n",
      " |-- punt_c_sociales_recal: string (nullable = true)\n",
      " |-- punt_filosofia_recal: string (nullable = true)\n",
      " |-- punt_fisica_recal: string (nullable = true)\n",
      " |-- punt_ingles_recal: string (nullable = true)\n",
      " |-- punt_lenguaje_recal: string (nullable = true)\n",
      " |-- punt_matematicas_recal: string (nullable = true)\n",
      " |-- punt_quimica_recal: string (nullable = true)\n",
      " |-- prom_puntaje: double (nullable = true)\n",
      "\n"
     ]
    }
   ],
   "source": [
    "df.printSchema()"
   ]
  },
  {
   "cell_type": "markdown",
   "metadata": {},
   "source": [
    "# Eliminar columnas de no interés "
   ]
  },
  {
   "cell_type": "code",
   "execution_count": 45,
   "metadata": {},
   "outputs": [],
   "source": [
    "col_delete=['_c0','estu_estudiante','desemp_ingles','nombre_comp_flexible'\n",
    "                   ,'punt_comp_flexible','desemp_comp_flexible',\n",
    "                   'punt_biologia_recal','punt_c_sociales_recal',\n",
    "                   'punt_filosofia_recal','punt_filosofia_recal',\n",
    "                   'punt_fisica_recal','punt_ingles_recal',\n",
    "                   'punt_lenguaje_recal','punt_matematicas_recal',\n",
    "                   'punt_quimica_recal']\n",
    "for c in col_delete:\n",
    "    df=df.drop(c)"
   ]
  },
  {
   "cell_type": "code",
   "execution_count": 46,
   "metadata": {},
   "outputs": [
    {
     "name": "stdout",
     "output_type": "stream",
     "text": [
      "root\n",
      " |-- periodo: integer (nullable = true)\n",
      " |-- estu_consecutivo: string (nullable = true)\n",
      " |-- estu_edad: double (nullable = true)\n",
      " |-- estu_tipo_documento: string (nullable = true)\n",
      " |-- estu_pais_reside: string (nullable = true)\n",
      " |-- estu_genero: string (nullable = true)\n",
      " |-- estu_nacimiento_dia: double (nullable = true)\n",
      " |-- estu_nacimiento_mes: double (nullable = true)\n",
      " |-- estu_nacimiento_anno: double (nullable = true)\n",
      " |-- estu_cod_reside_mcpio: double (nullable = true)\n",
      " |-- estu_reside_mcpio: string (nullable = true)\n",
      " |-- estu_reside_depto: string (nullable = true)\n",
      " |-- estu_zona_reside: double (nullable = true)\n",
      " |-- estu_area_reside: double (nullable = true)\n",
      " |-- cole_valor_pension: double (nullable = true)\n",
      " |-- estu_trabaja: double (nullable = true)\n",
      " |-- fami_estrato_vivienda: double (nullable = true)\n",
      " |-- estu_ies_cod_deseada: double (nullable = true)\n",
      " |-- estu_ies_deseada_nombre: string (nullable = true)\n",
      " |-- estu_ies_cod_mpio_deseada: double (nullable = true)\n",
      " |-- estu_ies_mpio_deseada: string (nullable = true)\n",
      " |-- estu_ies_dept_deseada: string (nullable = true)\n",
      " |-- estu_mpio_presentacion: string (nullable = true)\n",
      " |-- estu_dept_presentacion: string (nullable = true)\n",
      " |-- estu_exam_cod_mpio_presentacio: integer (nullable = true)\n",
      " |-- estu_veces_estado: double (nullable = true)\n",
      " |-- estu_carrdeseada_tipo: double (nullable = true)\n",
      " |-- fami_educa_padre: double (nullable = true)\n",
      " |-- fami_educa_madre: double (nullable = true)\n",
      " |-- fami_ocup_padre: double (nullable = true)\n",
      " |-- fami_ocup_madre: double (nullable = true)\n",
      " |-- fami_nivel_sisben: double (nullable = true)\n",
      " |-- fami_pisos_hogar: double (nullable = true)\n",
      " |-- fami_personas_hogar: double (nullable = true)\n",
      " |-- fami_telefono_fijo: double (nullable = true)\n",
      " |-- fami_celular: double (nullable = true)\n",
      " |-- fami_internet: double (nullable = true)\n",
      " |-- fami_servicio_television: double (nullable = true)\n",
      " |-- fami_computador: double (nullable = true)\n",
      " |-- fami_lavadora: double (nullable = true)\n",
      " |-- fami_nevera: double (nullable = true)\n",
      " |-- fami_horno: double (nullable = true)\n",
      " |-- fami_dvd: double (nullable = true)\n",
      " |-- fami_microondas: double (nullable = true)\n",
      " |-- fami_automovil: double (nullable = true)\n",
      " |-- fami_ing_fmiliar_mensual: double (nullable = true)\n",
      " |-- estu_anos_preescolar: double (nullable = true)\n",
      " |-- estu_ano_matricula_primero: double (nullable = true)\n",
      " |-- estu_ano_termino_quinto: double (nullable = true)\n",
      " |-- estu_ano_matricula_sexto: double (nullable = true)\n",
      " |-- estu_reprobo_primero: double (nullable = true)\n",
      " |-- estu_reprobo_segundo: double (nullable = true)\n",
      " |-- estu_reprobo_tercero: double (nullable = true)\n",
      " |-- estu_reprobo_cuarto: double (nullable = true)\n",
      " |-- estu_reprobo_quinto: double (nullable = true)\n",
      " |-- estu_reprobo_sexto: double (nullable = true)\n",
      " |-- estu_reprobo_septimo: double (nullable = true)\n",
      " |-- estu_reprobo_octavo: double (nullable = true)\n",
      " |-- estu_reprobo_noveno: double (nullable = true)\n",
      " |-- estu_reprobo_decimo: double (nullable = true)\n",
      " |-- estu_reprobo_once_mas: double (nullable = true)\n",
      " |-- estu_anos_colegio_actual: double (nullable = true)\n",
      " |-- estu_cuantos_cole_estudio: double (nullable = true)\n",
      " |-- estu_razon_retiro: double (nullable = true)\n",
      " |-- estu_total_alumnos_curso: double (nullable = true)\n",
      " |-- estu_prestigioinstitucion: double (nullable = true)\n",
      " |-- estu_por_ubicacion: double (nullable = true)\n",
      " |-- estu_por_unicaqueofrece: double (nullable = true)\n",
      " |-- estu_por_amigosestudiando: double (nullable = true)\n",
      " |-- estu_por_otrarazon: double (nullable = true)\n",
      " |-- estu_por_orientacionvocacional: double (nullable = true)\n",
      " |-- estu_por_tradicionfamiliar: double (nullable = true)\n",
      " |-- estu_por_influenciaalguien: double (nullable = true)\n",
      " |-- cole_cod_icfes: integer (nullable = true)\n",
      " |-- cole_cod_dane_institucion: string (nullable = true)\n",
      " |-- cole_nombre_sede: string (nullable = true)\n",
      " |-- cole_cod_mcpio_ubicacion: integer (nullable = true)\n",
      " |-- cole_calendario: string (nullable = true)\n",
      " |-- cole_genero: string (nullable = true)\n",
      " |-- cole_naturaleza: string (nullable = true)\n",
      " |-- cole_bilingue: double (nullable = true)\n",
      " |-- cole_jornada: string (nullable = true)\n",
      " |-- cole_caracter: string (nullable = true)\n",
      " |-- punt_lenguaje: double (nullable = true)\n",
      " |-- punt_matematicas: double (nullable = true)\n",
      " |-- punt_c_sociales: double (nullable = true)\n",
      " |-- punt_filosofia: double (nullable = true)\n",
      " |-- punt_biologia: double (nullable = true)\n",
      " |-- punt_quimica: double (nullable = true)\n",
      " |-- punt_fisica: double (nullable = true)\n",
      " |-- punt_ingles: double (nullable = true)\n",
      " |-- estu_puesto: integer (nullable = true)\n",
      " |-- prom_puntaje: double (nullable = true)\n",
      "\n"
     ]
    }
   ],
   "source": [
    "df.printSchema()"
   ]
  },
  {
   "cell_type": "markdown",
   "metadata": {},
   "source": [
    "# Cruces con ecaes "
   ]
  },
  {
   "cell_type": "code",
   "execution_count": 47,
   "metadata": {},
   "outputs": [],
   "source": [
    "df_cruces = spark.read.load(\"D:\\\\CLASES\\ELECTIVA 3 BigData\\\\Clase5_Ejercicos_Spark\\\\DATOS\\\\cruces.txt\",\n",
    "                     format=\"csv\",\n",
    "                     sep=\",\",\n",
    "                     inferSchema= True,\n",
    "                     encoding=\"iso-8859-1\",\n",
    "                     decimal=\",\",\n",
    "                     header=\"true\")"
   ]
  },
  {
   "cell_type": "code",
   "execution_count": 48,
   "metadata": {},
   "outputs": [
    {
     "name": "stdout",
     "output_type": "stream",
     "text": [
      "root\n",
      " |-- estu_consecutivo_11: string (nullable = true)\n",
      " |-- estu_consecutivo_PRO: string (nullable = true)\n",
      "\n"
     ]
    }
   ],
   "source": [
    "df_cruces.printSchema()"
   ]
  },
  {
   "cell_type": "markdown",
   "metadata": {},
   "source": [
    "# Crear Tablas Spark"
   ]
  },
  {
   "cell_type": "code",
   "execution_count": 49,
   "metadata": {},
   "outputs": [],
   "source": [
    "df.createOrReplaceTempView('icfesview')\n",
    "df_cruces.createOrReplaceTempView('cruces') "
   ]
  },
  {
   "cell_type": "markdown",
   "metadata": {},
   "source": [
    "# Join tablas"
   ]
  },
  {
   "cell_type": "markdown",
   "metadata": {},
   "source": [
    "Cantidad de estudiantes que presentaron el icfes y presentaron el ecaes "
   ]
  },
  {
   "cell_type": "code",
   "execution_count": 52,
   "metadata": {},
   "outputs": [
    {
     "name": "stdout",
     "output_type": "stream",
     "text": [
      "+--------+\n",
      "|count(1)|\n",
      "+--------+\n",
      "|  172623|\n",
      "+--------+\n",
      "\n"
     ]
    }
   ],
   "source": [
    "spark.sql(\"select count(1) from icfesview ic join cruces c\"+\n",
    "          \" on c.estu_consecutivo_11=ic.estu_consecutivo\").show()"
   ]
  },
  {
   "cell_type": "markdown",
   "metadata": {},
   "source": [
    "Cantidad de estudiantes que presentaron el icfes y no presentaron el ecaes"
   ]
  },
  {
   "cell_type": "code",
   "execution_count": 53,
   "metadata": {},
   "outputs": [
    {
     "name": "stdout",
     "output_type": "stream",
     "text": [
      "+-----------------------+\n",
      "|count(estu_consecutivo)|\n",
      "+-----------------------+\n",
      "|                 374020|\n",
      "+-----------------------+\n",
      "\n"
     ]
    }
   ],
   "source": [
    "#left  join \n",
    "spark.sql(\"select count(ic.estu_consecutivo) from icfesview ic left join cruces c\"+\n",
    "          \" on c.estu_consecutivo_11=ic.estu_consecutivo\"+\n",
    "          \" where c.estu_consecutivo_pro is null\").show()\n"
   ]
  },
  {
   "cell_type": "code",
   "execution_count": 62,
   "metadata": {},
   "outputs": [],
   "source": [
    "df_icfes_ml=spark.sql(\"select ic.*,\"+\n",
    "\" case when c.estu_consecutivo_pro is null then 0 else 1 end clase\"+\n",
    "\" from icfesview ic left join cruces c\"+ \n",
    "\" on c.estu_consecutivo_11=ic.estu_consecutivo\")"
   ]
  },
  {
   "cell_type": "code",
   "execution_count": 64,
   "metadata": {
    "scrolled": true
   },
   "outputs": [
    {
     "name": "stdout",
     "output_type": "stream",
     "text": [
      "+------------------+-----+\n",
      "|  estu_consecutivo|clase|\n",
      "+------------------+-----+\n",
      "|SABER1120102000203|    1|\n",
      "|SABER1120102000279|    0|\n",
      "|SABER1120102000364|    0|\n",
      "|SABER1120102000534|    0|\n",
      "|SABER1120102000802|    0|\n",
      "|SABER1120102000996|    0|\n",
      "|SABER1120102001119|    1|\n",
      "|SABER1120102001187|    0|\n",
      "|SABER1120102001507|    0|\n",
      "|SABER1120102001584|    1|\n",
      "|SABER1120102001736|    0|\n",
      "|SABER1120102001771|    0|\n",
      "|SABER1120102001962|    0|\n",
      "|SABER1120102002904|    0|\n",
      "|SABER1120102003326|    0|\n",
      "|SABER1120102003555|    0|\n",
      "|SABER1120102003687|    0|\n",
      "|SABER1120102004187|    1|\n",
      "|SABER1120102004466|    1|\n",
      "|SABER1120102004522|    0|\n",
      "+------------------+-----+\n",
      "only showing top 20 rows\n",
      "\n"
     ]
    }
   ],
   "source": [
    "df_icfes_ml.select('estu_consecutivo','clase').show()"
   ]
  },
  {
   "cell_type": "code",
   "execution_count": 83,
   "metadata": {},
   "outputs": [],
   "source": [
    "df_icfes_ml.repartition(1).write.csv('D:\\\\CLASES\\ELECTIVA 3 BigData\\\\Clase5_Ejercicos_Spark\\\\DATOS\\\\icfes_ml.csv',sep='|',header=\"true\") "
   ]
  },
  {
   "cell_type": "code",
   "execution_count": 80,
   "metadata": {},
   "outputs": [],
   "source": [
    "df_new = spark.read.load(\"D:\\\\CLASES\\ELECTIVA 3 BigData\\\\Clase5_Ejercicos_Spark\\\\DATOS\\\\icfes_ml.csv\",\n",
    "                     format=\"csv\",\n",
    "                     sep=\"|\",\n",
    "                     inferSchema= True,\n",
    "                     encoding=\"utf-8\",\n",
    "                     header=\"true\")"
   ]
  },
  {
   "cell_type": "code",
   "execution_count": 81,
   "metadata": {},
   "outputs": [
    {
     "name": "stdout",
     "output_type": "stream",
     "text": [
      "root\n",
      " |-- periodo: integer (nullable = true)\n",
      " |-- estu_consecutivo: string (nullable = true)\n",
      " |-- estu_edad: double (nullable = true)\n",
      " |-- estu_tipo_documento: string (nullable = true)\n",
      " |-- estu_pais_reside: string (nullable = true)\n",
      " |-- estu_genero: string (nullable = true)\n",
      " |-- estu_nacimiento_dia: double (nullable = true)\n",
      " |-- estu_nacimiento_mes: double (nullable = true)\n",
      " |-- estu_nacimiento_anno: double (nullable = true)\n",
      " |-- estu_cod_reside_mcpio: double (nullable = true)\n",
      " |-- estu_reside_mcpio: string (nullable = true)\n",
      " |-- estu_reside_depto: string (nullable = true)\n",
      " |-- estu_zona_reside: double (nullable = true)\n",
      " |-- estu_area_reside: double (nullable = true)\n",
      " |-- cole_valor_pension: double (nullable = true)\n",
      " |-- estu_trabaja: double (nullable = true)\n",
      " |-- fami_estrato_vivienda: double (nullable = true)\n",
      " |-- estu_ies_cod_deseada: double (nullable = true)\n",
      " |-- estu_ies_deseada_nombre: string (nullable = true)\n",
      " |-- estu_ies_cod_mpio_deseada: double (nullable = true)\n",
      " |-- estu_ies_mpio_deseada: string (nullable = true)\n",
      " |-- estu_ies_dept_deseada: string (nullable = true)\n",
      " |-- estu_mpio_presentacion: string (nullable = true)\n",
      " |-- estu_dept_presentacion: string (nullable = true)\n",
      " |-- estu_exam_cod_mpio_presentacio: integer (nullable = true)\n",
      " |-- estu_veces_estado: double (nullable = true)\n",
      " |-- estu_carrdeseada_tipo: double (nullable = true)\n",
      " |-- fami_educa_padre: double (nullable = true)\n",
      " |-- fami_educa_madre: double (nullable = true)\n",
      " |-- fami_ocup_padre: double (nullable = true)\n",
      " |-- fami_ocup_madre: double (nullable = true)\n",
      " |-- fami_nivel_sisben: double (nullable = true)\n",
      " |-- fami_pisos_hogar: double (nullable = true)\n",
      " |-- fami_personas_hogar: double (nullable = true)\n",
      " |-- fami_telefono_fijo: double (nullable = true)\n",
      " |-- fami_celular: double (nullable = true)\n",
      " |-- fami_internet: double (nullable = true)\n",
      " |-- fami_servicio_television: double (nullable = true)\n",
      " |-- fami_computador: double (nullable = true)\n",
      " |-- fami_lavadora: double (nullable = true)\n",
      " |-- fami_nevera: double (nullable = true)\n",
      " |-- fami_horno: double (nullable = true)\n",
      " |-- fami_dvd: double (nullable = true)\n",
      " |-- fami_microondas: double (nullable = true)\n",
      " |-- fami_automovil: double (nullable = true)\n",
      " |-- fami_ing_fmiliar_mensual: double (nullable = true)\n",
      " |-- estu_anos_preescolar: double (nullable = true)\n",
      " |-- estu_ano_matricula_primero: double (nullable = true)\n",
      " |-- estu_ano_termino_quinto: double (nullable = true)\n",
      " |-- estu_ano_matricula_sexto: double (nullable = true)\n",
      " |-- estu_reprobo_primero: double (nullable = true)\n",
      " |-- estu_reprobo_segundo: double (nullable = true)\n",
      " |-- estu_reprobo_tercero: double (nullable = true)\n",
      " |-- estu_reprobo_cuarto: double (nullable = true)\n",
      " |-- estu_reprobo_quinto: double (nullable = true)\n",
      " |-- estu_reprobo_sexto: double (nullable = true)\n",
      " |-- estu_reprobo_septimo: double (nullable = true)\n",
      " |-- estu_reprobo_octavo: double (nullable = true)\n",
      " |-- estu_reprobo_noveno: double (nullable = true)\n",
      " |-- estu_reprobo_decimo: double (nullable = true)\n",
      " |-- estu_reprobo_once_mas: double (nullable = true)\n",
      " |-- estu_anos_colegio_actual: double (nullable = true)\n",
      " |-- estu_cuantos_cole_estudio: double (nullable = true)\n",
      " |-- estu_razon_retiro: double (nullable = true)\n",
      " |-- estu_total_alumnos_curso: double (nullable = true)\n",
      " |-- estu_prestigioinstitucion: double (nullable = true)\n",
      " |-- estu_por_ubicacion: double (nullable = true)\n",
      " |-- estu_por_unicaqueofrece: double (nullable = true)\n",
      " |-- estu_por_amigosestudiando: double (nullable = true)\n",
      " |-- estu_por_otrarazon: double (nullable = true)\n",
      " |-- estu_por_orientacionvocacional: double (nullable = true)\n",
      " |-- estu_por_tradicionfamiliar: double (nullable = true)\n",
      " |-- estu_por_influenciaalguien: double (nullable = true)\n",
      " |-- cole_cod_icfes: integer (nullable = true)\n",
      " |-- cole_cod_dane_institucion: string (nullable = true)\n",
      " |-- cole_nombre_sede: string (nullable = true)\n",
      " |-- cole_cod_mcpio_ubicacion: integer (nullable = true)\n",
      " |-- cole_calendario: string (nullable = true)\n",
      " |-- cole_genero: string (nullable = true)\n",
      " |-- cole_naturaleza: string (nullable = true)\n",
      " |-- cole_bilingue: double (nullable = true)\n",
      " |-- cole_jornada: string (nullable = true)\n",
      " |-- cole_caracter: string (nullable = true)\n",
      " |-- punt_lenguaje: double (nullable = true)\n",
      " |-- punt_matematicas: double (nullable = true)\n",
      " |-- punt_c_sociales: double (nullable = true)\n",
      " |-- punt_filosofia: double (nullable = true)\n",
      " |-- punt_biologia: double (nullable = true)\n",
      " |-- punt_quimica: double (nullable = true)\n",
      " |-- punt_fisica: double (nullable = true)\n",
      " |-- punt_ingles: double (nullable = true)\n",
      " |-- estu_puesto: integer (nullable = true)\n",
      " |-- prom_puntaje: double (nullable = true)\n",
      "\n"
     ]
    }
   ],
   "source": [
    "df_new.printSchema()"
   ]
  }
 ],
 "metadata": {
  "kernelspec": {
   "display_name": "Python 3",
   "language": "python",
   "name": "python3"
  },
  "language_info": {
   "codemirror_mode": {
    "name": "ipython",
    "version": 3
   },
   "file_extension": ".py",
   "mimetype": "text/x-python",
   "name": "python",
   "nbconvert_exporter": "python",
   "pygments_lexer": "ipython3",
   "version": "3.7.7"
  }
 },
 "nbformat": 4,
 "nbformat_minor": 4
}

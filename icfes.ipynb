{
 "cells": [
  {
   "cell_type": "code",
   "execution_count": 1,
   "metadata": {},
   "outputs": [],
   "source": [
    "from pyspark import SparkConf, SparkContext\n",
    "from pyspark.sql import SparkSession\n",
    "sc = SparkContext.getOrCreate()\n",
    "spark = SparkSession(sc)"
   ]
  },
  {
   "cell_type": "code",
   "execution_count": 3,
   "metadata": {},
   "outputs": [
    {
     "name": "stdout",
     "output_type": "stream",
     "text": [
      "root\n",
      " |-- estu_edad: double (nullable = true)\n",
      " |-- estu_genero: string (nullable = true)\n",
      " |-- estu_nacimiento_dia: double (nullable = true)\n",
      " |-- estu_nacimiento_mes: double (nullable = true)\n",
      " |-- estu_nacimiento_anno: double (nullable = true)\n",
      " |-- estu_zona_reside: double (nullable = true)\n",
      " |-- estu_area_reside: double (nullable = true)\n",
      " |-- cole_valor_pension: double (nullable = true)\n",
      " |-- estu_trabaja: double (nullable = true)\n",
      " |-- fami_estrato_vivienda: double (nullable = true)\n",
      " |-- estu_veces_estado: double (nullable = true)\n",
      " |-- fami_educa_padre: double (nullable = true)\n",
      " |-- fami_educa_madre: double (nullable = true)\n",
      " |-- fami_ocup_padre: double (nullable = true)\n",
      " |-- fami_ocup_madre: double (nullable = true)\n",
      " |-- fami_nivel_sisben: double (nullable = true)\n",
      " |-- fami_pisos_hogar: double (nullable = true)\n",
      " |-- fami_personas_hogar: double (nullable = true)\n",
      " |-- fami_telefono_fijo: double (nullable = true)\n",
      " |-- fami_celular: double (nullable = true)\n",
      " |-- fami_internet: double (nullable = true)\n",
      " |-- fami_servicio_television: double (nullable = true)\n",
      " |-- fami_computador: double (nullable = true)\n",
      " |-- fami_lavadora: double (nullable = true)\n",
      " |-- fami_nevera: double (nullable = true)\n",
      " |-- fami_horno: double (nullable = true)\n",
      " |-- fami_dvd: double (nullable = true)\n",
      " |-- fami_microondas: double (nullable = true)\n",
      " |-- fami_automovil: double (nullable = true)\n",
      " |-- fami_ing_fmiliar_mensual: double (nullable = true)\n",
      " |-- estu_anos_preescolar: double (nullable = true)\n",
      " |-- estu_reprobo_primero: double (nullable = true)\n",
      " |-- estu_anos_colegio_actual: double (nullable = true)\n",
      " |-- estu_cuantos_cole_estudio: double (nullable = true)\n",
      " |-- estu_razon_retiro: double (nullable = true)\n",
      " |-- estu_total_alumnos_curso: double (nullable = true)\n",
      " |-- estu_prestigioinstitucion: double (nullable = true)\n",
      " |-- estu_por_ubicacion: double (nullable = true)\n",
      " |-- estu_por_unicaqueofrece: double (nullable = true)\n",
      " |-- estu_por_amigosestudiando: double (nullable = true)\n",
      " |-- estu_por_otrarazon: double (nullable = true)\n",
      " |-- estu_por_orientacionvocacional: double (nullable = true)\n",
      " |-- estu_por_tradicionfamiliar: double (nullable = true)\n",
      " |-- estu_por_influenciaalguien: double (nullable = true)\n",
      " |-- cole_cod_icfes: integer (nullable = true)\n",
      " |-- cole_nombre_sede: string (nullable = true)\n",
      " |-- cole_calendario: string (nullable = true)\n",
      " |-- cole_genero: string (nullable = true)\n",
      " |-- cole_naturaleza: string (nullable = true)\n",
      " |-- cole_bilingue: double (nullable = true)\n",
      " |-- cole_jornada: string (nullable = true)\n",
      " |-- cole_caracter: string (nullable = true)\n",
      " |-- prom_puntaje: double (nullable = true)\n",
      " |-- clase: integer (nullable = true)\n",
      "\n"
     ]
    }
   ],
   "source": [
    "##\n",
    "## Row representa una fila en un RDD\n",
    "#\n",
    "from pyspark.sql import Row\n",
    "##\n",
    "## Crea un DataFrame a partir del archivo con\n",
    "## formato CSV\n",
    "##\n",
    "nombre_archivo=\"icfes_taller\"\n",
    "df = spark.read.load(\"D:\\\\CLASES\\\\ELECTIVA 3 BigData\\\\Taller_final\\\\\"+nombre_archivo+\".csv\",\n",
    "                     format=\"csv\",\n",
    "                     sep=\"|\",\n",
    "                     inferSchema= True,\n",
    "                     encoding='UTF-8',\n",
    "                     decimal=\".\",\n",
    "                     header=\"true\")\n",
    "df.printSchema()"
   ]
  },
  {
   "cell_type": "code",
   "execution_count": 6,
   "metadata": {},
   "outputs": [
    {
     "name": "stdout",
     "output_type": "stream",
     "text": [
      "+---------+------------------+--------------+--------------------+\n",
      "|estu_edad|      prom_puntaje|cole_cod_icfes|    cole_nombre_sede|\n",
      "+---------+------------------+--------------+--------------------+\n",
      "|     16.0|          50.42875|         39255|INSTITUCION EDUCA...|\n",
      "|     17.0|43.397499999999994|         39255|INSTITUCION EDUCA...|\n",
      "|     16.0|58.356249999999996|         39255|INSTITUCION EDUCA...|\n",
      "|     16.0|           52.1875|         39255|INSTITUCION EDUCA...|\n",
      "|     17.0|59.401250000000005|         39255|INSTITUCION EDUCA...|\n",
      "|     17.0|56.459999999999994|         39255|INSTITUCION EDUCA...|\n",
      "|     19.0|          46.66625|         39255|INSTITUCION EDUCA...|\n",
      "|     16.0|45.443749999999994|         39255|INSTITUCION EDUCA...|\n",
      "|     18.0|             47.77|         39255|INSTITUCION EDUCA...|\n",
      "|     16.0|              49.2|         39255|INSTITUCION EDUCA...|\n",
      "|     19.0| 38.64999999999999|         39255|INSTITUCION EDUCA...|\n",
      "|     18.0|50.411249999999995|         39255|INSTITUCION EDUCA...|\n",
      "|     16.0|          80.22625|         39255|INSTITUCION EDUCA...|\n",
      "|     17.0|47.779999999999994|         39255|INSTITUCION EDUCA...|\n",
      "|     18.0|          49.04875|         39255|INSTITUCION EDUCA...|\n",
      "|     17.0|          54.02375|         39255|INSTITUCION EDUCA...|\n",
      "|     19.0| 47.13250000000001|         39255|INSTITUCION EDUCA...|\n",
      "|     17.0|          58.15875|         39255|INSTITUCION EDUCA...|\n",
      "|     16.0| 51.73875000000001|         39255|INSTITUCION EDUCA...|\n",
      "|     18.0|          42.43625|         39255|INSTITUCION EDUCA...|\n",
      "|     19.0| 53.82499999999999|         39255|INSTITUCION EDUCA...|\n",
      "|     17.0|            57.045|         39255|INSTITUCION EDUCA...|\n",
      "|     17.0| 51.39750000000001|         39255|INSTITUCION EDUCA...|\n",
      "|     17.0|            47.575|         39255|INSTITUCION EDUCA...|\n",
      "|     17.0|49.949999999999996|         39255|INSTITUCION EDUCA...|\n",
      "|     17.0|          46.08875|         39255|INSTITUCION EDUCA...|\n",
      "|     17.0|           49.0225|         39255|INSTITUCION EDUCA...|\n",
      "|     17.0|51.428749999999994|         39255|INSTITUCION EDUCA...|\n",
      "|     17.0|          44.91375|         39255|INSTITUCION EDUCA...|\n",
      "|     17.0|           52.1325|         39255|INSTITUCION EDUCA...|\n",
      "|     20.0|44.527499999999996|         39255|INSTITUCION EDUCA...|\n",
      "|     19.0|          51.86875|         39255|INSTITUCION EDUCA...|\n",
      "|     16.0|           51.8875|         39255|INSTITUCION EDUCA...|\n",
      "|     18.0|           52.0325|         39255|INSTITUCION EDUCA...|\n",
      "|     16.0|63.153749999999995|         39255|INSTITUCION EDUCA...|\n",
      "|     17.0|           51.1875|         39255|INSTITUCION EDUCA...|\n",
      "|     18.0|          45.74125|         39255|INSTITUCION EDUCA...|\n",
      "|     17.0|            66.845|         39255|INSTITUCION EDUCA...|\n",
      "|     17.0|          61.86125|         39255|INSTITUCION EDUCA...|\n",
      "|     17.0| 62.92124999999999|         39255|INSTITUCION EDUCA...|\n",
      "|     17.0|          53.25375|         39255|INSTITUCION EDUCA...|\n",
      "|     18.0| 55.87375000000001|         39255|INSTITUCION EDUCA...|\n",
      "|     17.0|           46.2675|         39255|INSTITUCION EDUCA...|\n",
      "|     16.0|           56.0175|         39255|INSTITUCION EDUCA...|\n",
      "|     18.0|           43.1825|         39255|INSTITUCION EDUCA...|\n",
      "|     17.0|48.745000000000005|         39255|INSTITUCION EDUCA...|\n",
      "|     16.0|             42.53|         39255|INSTITUCION EDUCA...|\n",
      "|     17.0|          58.32125|         39255|INSTITUCION EDUCA...|\n",
      "|     16.0|45.824999999999996|         39255|INSTITUCION EDUCA...|\n",
      "|     18.0|          53.11875|         39255|INSTITUCION EDUCA...|\n",
      "|     17.0|51.028749999999995|         39255|INSTITUCION EDUCA...|\n",
      "|     20.0|41.113749999999996|         39255|INSTITUCION EDUCA...|\n",
      "|     16.0| 57.50749999999999|         39255|INSTITUCION EDUCA...|\n",
      "|     19.0| 52.83250000000001|         39255|INSTITUCION EDUCA...|\n",
      "+---------+------------------+--------------+--------------------+\n",
      "\n"
     ]
    }
   ],
   "source": [
    "df.select(\"estu_edad\",\"prom_puntaje\",\"cole_cod_icfes\",'cole_nombre_sede').where(\"cole_cod_icfes=39255\").show(1000)"
   ]
  },
  {
   "cell_type": "code",
   "execution_count": 12,
   "metadata": {},
   "outputs": [
    {
     "name": "stdout",
     "output_type": "stream",
     "text": [
      "+----------------+--------------------------+--------------------------+--------------------+\n",
      "|estu_zona_reside|min(fami_estrato_vivienda)|max(fami_estrato_vivienda)|                prom|\n",
      "+----------------+--------------------------+--------------------------+--------------------+\n",
      "|             8.0|                       1.0|                       3.0|                 2.5|\n",
      "|             0.0|                       0.0|                       1.0|0.014925373134328358|\n",
      "|             7.0|                       1.0|                       5.0|  1.5263157894736843|\n",
      "|             1.0|                       0.0|                       3.0|  1.6666666666666667|\n",
      "|             4.0|                       0.0|                       5.0|  1.7777777777777777|\n",
      "|             3.0|                       2.0|                       3.0|                 2.4|\n",
      "|             2.0|                       1.0|                       3.0|  1.6666666666666667|\n",
      "|            10.0|                       0.0|                       6.0|  1.3503839732888148|\n",
      "|             6.0|                       1.0|                       2.0|                1.75|\n",
      "|             5.0|                       1.0|                       3.0|                 2.0|\n",
      "|             9.0|                       2.0|                       3.0|                 2.2|\n",
      "+----------------+--------------------------+--------------------------+--------------------+\n",
      "\n"
     ]
    }
   ],
   "source": [
    "df.createOrReplaceTempView('mi_tabla')\n",
    "sql=(\"select estu_zona_reside,min(fami_estrato_vivienda),max(fami_estrato_vivienda),avg(fami_estrato_vivienda) prom from\"\n",
    "     \" mi_tabla group by estu_zona_reside\" )\n",
    "spark.sql(sql).show()"
   ]
  },
  {
   "cell_type": "code",
   "execution_count": 19,
   "metadata": {},
   "outputs": [
    {
     "name": "stdout",
     "output_type": "stream",
     "text": [
      "+----------------+--------------------------+--------------------------+--------------------------+\n",
      "|estu_zona_reside|min(fami_estrato_vivienda)|max(fami_estrato_vivienda)|avg(fami_estrato_vivienda)|\n",
      "+----------------+--------------------------+--------------------------+--------------------------+\n",
      "|             8.0|                       1.0|                       3.0|                       2.5|\n",
      "+----------------+--------------------------+--------------------------+--------------------------+\n",
      "\n"
     ]
    }
   ],
   "source": [
    "sql1=(\"select estu_zona_reside,min(fami_estrato_vivienda),max(fami_estrato_vivienda),avg(fami_estrato_vivienda) from\"\n",
    "    + \" mi_tabla group by estu_zona_reside\" \n",
    "    +\" having avg(fami_estrato_vivienda)=(select max(t1.prom)\"\n",
    "    +\" from (select estu_zona_reside,avg(fami_estrato_vivienda) prom from\"\n",
    "     +\" mi_tabla group by estu_zona_reside)t1)\" )\n",
    "\n",
    "spark.sql(sql1).show()"
   ]
  },
  {
   "cell_type": "code",
   "execution_count": 15,
   "metadata": {},
   "outputs": [
    {
     "data": {
      "text/plain": [
       "'select estu_zona_reside,min(fami_estrato_vivienda),max(fami_estrato_vivienda),avg(fami_estrato_vivienda) from mi_tabla group by estu_zona_reside having avg(fami_estrato_vivienda)=(  select max(t1.prom) from (select estu_zona_reside,min(fami_estrato_vivienda),max(fami_estrato_vivienda),avg(fami_estrato_vivienda) from mi_tabla group by estu_zona_reside))t1'"
      ]
     },
     "execution_count": 15,
     "metadata": {},
     "output_type": "execute_result"
    }
   ],
   "source": [
    "sql1"
   ]
  },
  {
   "cell_type": "code",
   "execution_count": 8,
   "metadata": {},
   "outputs": [
    {
     "name": "stdout",
     "output_type": "stream",
     "text": [
      "+--------------+--------------------+-----------------+\n",
      "|cole_cod_icfes|    cole_nombre_sede|     prom_puntaje|\n",
      "+--------------+--------------------+-----------------+\n",
      "|         11882|COLEGIO NACIONAL ...|86.18500000000002|\n",
      "+--------------+--------------------+-----------------+\n",
      "\n"
     ]
    }
   ],
   "source": [
    "df.createOrReplaceTempView('icfesview')\n",
    "spark .sql(\"select cole_cod_icfes,cole_nombre_sede,prom_puntaje from icfesview where prom_puntaje = (select max(prom_puntaje) from icfesview)\").show()\n"
   ]
  }
 ],
 "metadata": {
  "kernelspec": {
   "display_name": "Python 3",
   "language": "python",
   "name": "python3"
  },
  "language_info": {
   "codemirror_mode": {
    "name": "ipython",
    "version": 3
   },
   "file_extension": ".py",
   "mimetype": "text/x-python",
   "name": "python",
   "nbconvert_exporter": "python",
   "pygments_lexer": "ipython3",
   "version": "3.7.7"
  }
 },
 "nbformat": 4,
 "nbformat_minor": 4
}

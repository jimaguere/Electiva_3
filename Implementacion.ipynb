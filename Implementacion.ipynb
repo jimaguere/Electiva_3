{
 "cells": [
  {
   "cell_type": "code",
   "execution_count": null,
   "metadata": {},
   "outputs": [
    {
     "name": "stdout",
     "output_type": "stream",
     "text": [
      " * Serving Flask app \"__main__\" (lazy loading)\n",
      " * Environment: production\n",
      "   WARNING: This is a development server. Do not use it in a production deployment.\n",
      "   Use a production WSGI server instead.\n",
      " * Debug mode: off\n"
     ]
    },
    {
     "name": "stderr",
     "output_type": "stream",
     "text": [
      " * Running on http://0.0.0.0:8889/ (Press CTRL+C to quit)\n",
      "127.0.0.1 - - [20/Jan/2021 11:39:13] \"\u001b[37mGET /endpoint_desercion HTTP/1.1\u001b[0m\" 200 -\n",
      "127.0.0.1 - - [20/Jan/2021 11:39:26] \"\u001b[37mGET /endpoint_desercion HTTP/1.1\u001b[0m\" 200 -\n",
      "127.0.0.1 - - [20/Jan/2021 11:39:43] \"\u001b[37mGET /endpoint_desercion HTTP/1.1\u001b[0m\" 200 -\n",
      "127.0.0.1 - - [20/Jan/2021 11:40:05] \"\u001b[37mGET /endpoint_desercion HTTP/1.1\u001b[0m\" 200 -\n",
      "127.0.0.1 - - [20/Jan/2021 11:43:20] \"\u001b[37mGET /endpoint_desercion HTTP/1.1\u001b[0m\" 200 -\n",
      "127.0.0.1 - - [20/Jan/2021 11:43:38] \"\u001b[37mGET /endpoint_desercion HTTP/1.1\u001b[0m\" 200 -\n",
      "127.0.0.1 - - [20/Jan/2021 11:44:00] \"\u001b[37mGET /endpoint_desercion HTTP/1.1\u001b[0m\" 200 -\n",
      "127.0.0.1 - - [20/Jan/2021 11:44:15] \"\u001b[37mGET /endpoint_desercion HTTP/1.1\u001b[0m\" 200 -\n"
     ]
    }
   ],
   "source": [
    "from flask import Flask\n",
    "from flask_restplus import Resource, Api\n",
    "from flask import jsonify\n",
    "from flask import request\n",
    "import json\n",
    "import pyodbc\n",
    "from flask import jsonify\n",
    "from flask import Response\n",
    "\n",
    "from pyspark import SparkConf, SparkContext\n",
    "from pyspark.sql import SparkSession\n",
    "\n",
    "import joblib\n",
    "from pyspark.ml.classification import DecisionTreeClassificationModel\n",
    "from pyspark.ml.feature import VectorAssembler\n",
    "\n",
    "\n",
    "def imputar_nulos(df):\n",
    "    complete_dict = dict()\n",
    "    for col_name in df.dtypes:\n",
    "        if col_name[1]=='string':\n",
    "            complete_dict[col_name[0]]=\"DESCONOCIDO\"\n",
    "        else:\n",
    "            complete_dict[col_name[0]]=-99    \n",
    "    df_ml_complete = df.na.fill(complete_dict)      \n",
    "    return (df_ml_complete)\n",
    "\n",
    "\n",
    "app = Flask(__name__)\n",
    "@app.route('/endpoint_desercion', methods=['GET'])\n",
    "def desercion():\n",
    "    data = request.get_json() #leo el json \n",
    "    spark = SparkSession.builder.appName('endpoint_desercion').getOrCreate() #cargo spark\n",
    "    #leo el modelo entrenado y variables\n",
    "    modelo=DecisionTreeClassificationModel.load('D:\\\\CLASES\\\\ELECTIVA 3 BigData\\\\Taller_final\\\\modelo_arbol_99')\n",
    "    important_features=joblib.load('D:\\\\CLASES\\\\ELECTIVA 3 BigData\\\\Taller_final\\\\columnas_99.dat')\n",
    "    \n",
    "    #cargo el json a un dataframe rdd\n",
    "    df = spark.read.json(sc.parallelize([data]))\n",
    "    #imputo nulos\n",
    "    df_complete=imputar_nulos(df)\n",
    "    #creo el ensamblador + variables\n",
    "    assembler_new = VectorAssembler(inputCols=important_features, outputCol='features')\n",
    "    evaluar = assembler_new.transform(df_complete)\n",
    "    #realizo la prediccion\n",
    "    df_pred = modelo.transform(evaluar)\n",
    "    pred_pd_full = df_pred.select(['prediction', 'probability']).toPandas()\n",
    "    return (json.dumps(json.loads(pred_pd_full.to_json(orient='records')), indent=2))\n",
    "\n",
    "if __name__ == '__main__':\n",
    "    app.run(host='0.0.0.0', port=8889)\n",
    "    \n",
    "\n",
    "\n"
   ]
  }
 ],
 "metadata": {
  "kernelspec": {
   "display_name": "Python 3",
   "language": "python",
   "name": "python3"
  },
  "language_info": {
   "codemirror_mode": {
    "name": "ipython",
    "version": 3
   },
   "file_extension": ".py",
   "mimetype": "text/x-python",
   "name": "python",
   "nbconvert_exporter": "python",
   "pygments_lexer": "ipython3",
   "version": "3.7.7"
  }
 },
 "nbformat": 4,
 "nbformat_minor": 4
}
